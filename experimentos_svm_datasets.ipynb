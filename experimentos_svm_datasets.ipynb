{
 "cells": [
  {
   "cell_type": "markdown",
   "id": "29af5c91",
   "metadata": {},
   "source": [
    "# Experimentos: Baseline com SVM Clássico\n",
    "\n",
    "Este notebook estabelece baselines de performance com um modelo de Support Vector Machine (SVM) clássico em datasets"
   ]
  },
  {
   "cell_type": "code",
   "execution_count": 5,
   "id": "29981d84",
   "metadata": {},
   "outputs": [],
   "source": [
    "from sklearn.datasets import load_breast_cancer # O Scikit-learn já tem o dataset 'Wisconsin Breast Cancer' pronto para usar.\n",
    "from sklearn.model_selection import train_test_split\n",
    "from sklearn.preprocessing import StandardScaler\n",
    "from sklearn.svm import SVC  # Importando o SVM Clássico\n",
    "from sklearn.metrics import classification_report\n",
    "import numpy as np\n"
   ]
  },
  {
   "cell_type": "markdown",
   "id": "59141e2f",
   "metadata": {},
   "source": [
    "## Loading data and initial analysis"
   ]
  },
  {
   "cell_type": "code",
   "execution_count": 11,
   "id": "d80e48ec",
   "metadata": {},
   "outputs": [
    {
     "name": "stdout",
     "output_type": "stream",
     "text": [
      "Dimensões dos dados: (569, 30)\n",
      "\n",
      "Distribuição das classes:\n",
      "Classe 0: 212 ocorrências\n",
      "Classe 1: 357 ocorrências\n"
     ]
    }
   ],
   "source": [
    "X, y = load_breast_cancer(return_X_y=True)  # Carregando o dataset\n",
    "\n",
    "# Verificando as dimensões dos nossos dados\n",
    "print(f\"Dimensões dos dados: {X.shape}\")\n",
    "\n",
    "\n",
    "# Vendo a distribuição das classes (0 e 1)\n",
    "print(\"\\nDistribuição das classes:\")\n",
    "# Usando numpy para contar as ocorrências de cada classe\n",
    "unique, counts = np.unique(y, return_counts=True)\n",
    "for class_label, count in zip(unique, counts):\n",
    "    print(f\"Classe {class_label}: {count} ocorrências\")\n"
   ]
  },
  {
   "cell_type": "markdown",
   "id": "f993b135",
   "metadata": {},
   "source": [
    "## Split data into training and testing sets"
   ]
  },
  {
   "cell_type": "code",
   "execution_count": 16,
   "id": "5bbd3fba",
   "metadata": {},
   "outputs": [
    {
     "name": "stdout",
     "output_type": "stream",
     "text": [
      "Dimensões do conjunto de treino: (426, 30)\n",
      "Dimensões do conjunto de teste: (143, 30)\n"
     ]
    }
   ],
   "source": [
    "X_train, X_test, y_train, y_test = train_test_split(X, y, test_size=0.25, random_state=42, stratify=y) # Stratify -> mantém a proporção das classes no split\n",
    "\n",
    "print(f\"Dimensões do conjunto de treino: {X_train.shape}\")\n",
    "print(f\"Dimensões do conjunto de teste: {X_test.shape}\")\n"
   ]
  },
  {
   "cell_type": "markdown",
   "id": "a7d66f6e",
   "metadata": {},
   "source": [
    "## Normalize data"
   ]
  },
  {
   "cell_type": "code",
   "execution_count": 21,
   "id": "a4104d3a",
   "metadata": {},
   "outputs": [
    {
     "name": "stdout",
     "output_type": "stream",
     "text": [
      "\n",
      "Dados normalizados\n"
     ]
    }
   ],
   "source": [
    "# normalizing the data\n",
    "scaler = StandardScaler()\n",
    "X_train = scaler.fit_transform(X_train)  # Ajusta o scaler e transforma os dados de treino\n",
    "X_test = scaler.transform(X_test)  # Transforma os dados de teste com o mesmo scaler\n",
    "\n",
    "print(\"\\nDados normalizados\")\n",
    "\n",
    "\n",
    "\n"
   ]
  },
  {
   "cell_type": "markdown",
   "id": "331668d2",
   "metadata": {},
   "source": [
    "# Training SVM model"
   ]
  },
  {
   "cell_type": "code",
   "execution_count": 22,
   "id": "2cecff1d",
   "metadata": {},
   "outputs": [
    {
     "name": "stdout",
     "output_type": "stream",
     "text": [
      "\n",
      "Modelo treinado com SVM (kernel RBF)\n"
     ]
    }
   ],
   "source": [
    "# Treinando o modelo SVM\n",
    "model = SVC(kernel=\"rbf\", gamma=\"scale\", random_state=42)  # Usando o kernel RBF\n",
    "model.fit(X_train, y_train)\n",
    "\n",
    "print(\"\\nModelo treinado com SVM (kernel RBF)\")"
   ]
  },
  {
   "cell_type": "markdown",
   "id": "138c4bc8",
   "metadata": {},
   "source": [
    "# Predictions"
   ]
  },
  {
   "cell_type": "code",
   "execution_count": 25,
   "id": "28634b7b",
   "metadata": {},
   "outputs": [
    {
     "name": "stdout",
     "output_type": "stream",
     "text": [
      "\n",
      "Previsões feitas no conjunto de teste\n",
      "\n",
      "Relatório de Classificação:\n",
      "              precision    recall  f1-score   support\n",
      "\n",
      "           0       0.96      0.98      0.97        53\n",
      "           1       0.99      0.98      0.98        90\n",
      "\n",
      "    accuracy                           0.98       143\n",
      "   macro avg       0.98      0.98      0.98       143\n",
      "weighted avg       0.98      0.98      0.98       143\n",
      "\n"
     ]
    }
   ],
   "source": [
    "# predicting the test set\n",
    "predictions = model.predict(X_test) # Prevendo os rótulos do conjunto de teste\n",
    "print(\"\\nPrevisões feitas no conjunto de teste\")\n",
    "# Avaliando o modelo\n",
    "print(\"\\nRelatório de Classificação:\")\n",
    "print(classification_report(y_test, predictions))"
   ]
  }
 ],
 "metadata": {
  "kernelspec": {
   "display_name": "tcc_env",
   "language": "python",
   "name": "python3"
  },
  "language_info": {
   "codemirror_mode": {
    "name": "ipython",
    "version": 3
   },
   "file_extension": ".py",
   "mimetype": "text/x-python",
   "name": "python",
   "nbconvert_exporter": "python",
   "pygments_lexer": "ipython3",
   "version": "3.13.5"
  }
 },
 "nbformat": 4,
 "nbformat_minor": 5
}
