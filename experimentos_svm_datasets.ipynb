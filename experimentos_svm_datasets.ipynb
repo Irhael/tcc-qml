{
 "cells": [
  {
   "cell_type": "markdown",
   "id": "29af5c91",
   "metadata": {},
   "source": [
    "# Experimentos: Baseline com SVM Clássico\n",
    "\n",
    "Este notebook estabelece baselines de performance com um modelo de Support Vector Machine (SVM) clássico em datasets"
   ]
  },
  {
   "cell_type": "markdown",
   "id": "1e355ce5",
   "metadata": {},
   "source": [
    "# Dataset = Breast Cancer Wisconsin (Diagnostic)"
   ]
  },
  {
   "cell_type": "code",
   "execution_count": 27,
   "id": "29981d84",
   "metadata": {},
   "outputs": [],
   "source": [
    "from sklearn.datasets import load_breast_cancer # O Scikit-learn já tem o dataset 'Wisconsin Breast Cancer' pronto para usar.\n",
    "from sklearn.model_selection import train_test_split\n",
    "from sklearn.preprocessing import StandardScaler\n",
    "from sklearn.svm import SVC  # Importando o SVM Clássico\n",
    "from sklearn.metrics import classification_report\n",
    "import numpy as np\n",
    "import pandas as pd"
   ]
  },
  {
   "cell_type": "markdown",
   "id": "59141e2f",
   "metadata": {},
   "source": [
    "## Loading data and initial analysis"
   ]
  },
  {
   "cell_type": "code",
   "execution_count": 28,
   "id": "d80e48ec",
   "metadata": {},
   "outputs": [
    {
     "name": "stdout",
     "output_type": "stream",
     "text": [
      "Dimensões dos dados: (569, 30)\n",
      "\n",
      "Distribuição das classes:\n",
      "Classe 0: 212 ocorrências\n",
      "Classe 1: 357 ocorrências\n"
     ]
    }
   ],
   "source": [
    "X, y = load_breast_cancer(return_X_y=True)  # Carregando o dataset\n",
    "\n",
    "# Verificando as dimensões dos nossos dados\n",
    "print(f\"Dimensões dos dados: {X.shape}\")\n",
    "\n",
    "\n",
    "# Vendo a distribuição das classes (0 e 1)\n",
    "print(\"\\nDistribuição das classes:\")\n",
    "# Usando numpy para contar as ocorrências de cada classe\n",
    "unique, counts = np.unique(y, return_counts=True)\n",
    "for class_label, count in zip(unique, counts):\n",
    "    print(f\"Classe {class_label}: {count} ocorrências\")\n"
   ]
  },
  {
   "cell_type": "markdown",
   "id": "f993b135",
   "metadata": {},
   "source": [
    "## Split data into training and testing sets"
   ]
  },
  {
   "cell_type": "code",
   "execution_count": 29,
   "id": "5bbd3fba",
   "metadata": {},
   "outputs": [
    {
     "name": "stdout",
     "output_type": "stream",
     "text": [
      "Dimensões do conjunto de treino: (426, 30)\n",
      "Dimensões do conjunto de teste: (143, 30)\n"
     ]
    }
   ],
   "source": [
    "X_train, X_test, y_train, y_test = train_test_split(X, y, test_size=0.25, random_state=42, stratify=y) # Stratify -> mantém a proporção das classes no split\n",
    "\n",
    "print(f\"Dimensões do conjunto de treino: {X_train.shape}\")\n",
    "print(f\"Dimensões do conjunto de teste: {X_test.shape}\")\n"
   ]
  },
  {
   "cell_type": "markdown",
   "id": "a7d66f6e",
   "metadata": {},
   "source": [
    "## Normalize data"
   ]
  },
  {
   "cell_type": "code",
   "execution_count": 30,
   "id": "a4104d3a",
   "metadata": {},
   "outputs": [
    {
     "name": "stdout",
     "output_type": "stream",
     "text": [
      "\n",
      "Dados normalizados\n"
     ]
    }
   ],
   "source": [
    "# normalizing the data\n",
    "scaler = StandardScaler()\n",
    "X_train = scaler.fit_transform(X_train)  # Ajusta o scaler e transforma os dados de treino\n",
    "X_test = scaler.transform(X_test)  # Transforma os dados de teste com o mesmo scaler\n",
    "\n",
    "print(\"\\nDados normalizados\")\n",
    "\n",
    "\n",
    "\n"
   ]
  },
  {
   "cell_type": "markdown",
   "id": "331668d2",
   "metadata": {},
   "source": [
    "# Training SVM model"
   ]
  },
  {
   "cell_type": "code",
   "execution_count": 31,
   "id": "2cecff1d",
   "metadata": {},
   "outputs": [
    {
     "name": "stdout",
     "output_type": "stream",
     "text": [
      "\n",
      "Modelo treinado com SVM (kernel RBF)\n"
     ]
    }
   ],
   "source": [
    "# Treinando o modelo SVM\n",
    "model = SVC(kernel=\"rbf\", gamma=\"scale\", random_state=42)  # Usando o kernel RBF\n",
    "model.fit(X_train, y_train)\n",
    "\n",
    "print(\"\\nModelo treinado com SVM (kernel RBF)\")"
   ]
  },
  {
   "cell_type": "markdown",
   "id": "138c4bc8",
   "metadata": {},
   "source": [
    "# Predictions"
   ]
  },
  {
   "cell_type": "code",
   "execution_count": 32,
   "id": "28634b7b",
   "metadata": {},
   "outputs": [
    {
     "name": "stdout",
     "output_type": "stream",
     "text": [
      "\n",
      "Previsões feitas no conjunto de teste\n",
      "\n",
      "Relatório de Classificação:\n",
      "              precision    recall  f1-score   support\n",
      "\n",
      "           0       0.96      0.98      0.97        53\n",
      "           1       0.99      0.98      0.98        90\n",
      "\n",
      "    accuracy                           0.98       143\n",
      "   macro avg       0.98      0.98      0.98       143\n",
      "weighted avg       0.98      0.98      0.98       143\n",
      "\n"
     ]
    }
   ],
   "source": [
    "# predicting the test set\n",
    "predictions = model.predict(X_test) # Prevendo os rótulos do conjunto de teste\n",
    "print(\"\\nPrevisões feitas no conjunto de teste\")\n",
    "# Avaliando o modelo\n",
    "print(\"\\nRelatório de Classificação:\")\n",
    "print(classification_report(y_test, predictions))"
   ]
  },
  {
   "cell_type": "markdown",
   "id": "14d910f8",
   "metadata": {},
   "source": [
    "# Dataset = Student Performance"
   ]
  },
  {
   "cell_type": "code",
   "execution_count": null,
   "id": "3c6daced",
   "metadata": {},
   "outputs": [],
   "source": [
    "# Dataset = Student Performance Dataset\n",
    "from ucimlrepo import fetch_ucirepo\n",
    "\n",
    "  \n",
    "# fetching the dataset from UCI Machine Learning Repository\n",
    "student_performance = fetch_ucirepo(id=320) \n",
    "  \n",
    "# displaying the dataset information\n",
    "print(\"\\nInformações do Dataset:\")\n",
    "X = student_performance.data.features \n",
    "y = student_performance.data.targets \n",
    "  \n",
    "# displaying the dataset metadata\n",
    "print(\"\\nInformações do Dataset:\")\n",
    "print(student_performance.metadata) \n",
    "  \n",
    "# displaying the dataset variables\n",
    "print(\"\\nVariáveis do Dataset:\")\n",
    "print(student_performance.variables) "
   ]
  },
  {
   "cell_type": "code",
   "execution_count": null,
   "id": "a6d0d899",
   "metadata": {},
   "outputs": [
    {
     "data": {
      "text/html": [
       "<div>\n",
       "<style scoped>\n",
       "    .dataframe tbody tr th:only-of-type {\n",
       "        vertical-align: middle;\n",
       "    }\n",
       "\n",
       "    .dataframe tbody tr th {\n",
       "        vertical-align: top;\n",
       "    }\n",
       "\n",
       "    .dataframe thead th {\n",
       "        text-align: right;\n",
       "    }\n",
       "</style>\n",
       "<table border=\"1\" class=\"dataframe\">\n",
       "  <thead>\n",
       "    <tr style=\"text-align: right;\">\n",
       "      <th></th>\n",
       "      <th>school</th>\n",
       "      <th>sex</th>\n",
       "      <th>age</th>\n",
       "      <th>address</th>\n",
       "      <th>famsize</th>\n",
       "      <th>Pstatus</th>\n",
       "      <th>Medu</th>\n",
       "      <th>Fedu</th>\n",
       "      <th>Mjob</th>\n",
       "      <th>Fjob</th>\n",
       "      <th>...</th>\n",
       "      <th>higher</th>\n",
       "      <th>internet</th>\n",
       "      <th>romantic</th>\n",
       "      <th>famrel</th>\n",
       "      <th>freetime</th>\n",
       "      <th>goout</th>\n",
       "      <th>Dalc</th>\n",
       "      <th>Walc</th>\n",
       "      <th>health</th>\n",
       "      <th>absences</th>\n",
       "    </tr>\n",
       "  </thead>\n",
       "  <tbody>\n",
       "    <tr>\n",
       "      <th>0</th>\n",
       "      <td>GP</td>\n",
       "      <td>F</td>\n",
       "      <td>18</td>\n",
       "      <td>U</td>\n",
       "      <td>GT3</td>\n",
       "      <td>A</td>\n",
       "      <td>4</td>\n",
       "      <td>4</td>\n",
       "      <td>at_home</td>\n",
       "      <td>teacher</td>\n",
       "      <td>...</td>\n",
       "      <td>yes</td>\n",
       "      <td>no</td>\n",
       "      <td>no</td>\n",
       "      <td>4</td>\n",
       "      <td>3</td>\n",
       "      <td>4</td>\n",
       "      <td>1</td>\n",
       "      <td>1</td>\n",
       "      <td>3</td>\n",
       "      <td>4</td>\n",
       "    </tr>\n",
       "    <tr>\n",
       "      <th>1</th>\n",
       "      <td>GP</td>\n",
       "      <td>F</td>\n",
       "      <td>17</td>\n",
       "      <td>U</td>\n",
       "      <td>GT3</td>\n",
       "      <td>T</td>\n",
       "      <td>1</td>\n",
       "      <td>1</td>\n",
       "      <td>at_home</td>\n",
       "      <td>other</td>\n",
       "      <td>...</td>\n",
       "      <td>yes</td>\n",
       "      <td>yes</td>\n",
       "      <td>no</td>\n",
       "      <td>5</td>\n",
       "      <td>3</td>\n",
       "      <td>3</td>\n",
       "      <td>1</td>\n",
       "      <td>1</td>\n",
       "      <td>3</td>\n",
       "      <td>2</td>\n",
       "    </tr>\n",
       "    <tr>\n",
       "      <th>2</th>\n",
       "      <td>GP</td>\n",
       "      <td>F</td>\n",
       "      <td>15</td>\n",
       "      <td>U</td>\n",
       "      <td>LE3</td>\n",
       "      <td>T</td>\n",
       "      <td>1</td>\n",
       "      <td>1</td>\n",
       "      <td>at_home</td>\n",
       "      <td>other</td>\n",
       "      <td>...</td>\n",
       "      <td>yes</td>\n",
       "      <td>yes</td>\n",
       "      <td>no</td>\n",
       "      <td>4</td>\n",
       "      <td>3</td>\n",
       "      <td>2</td>\n",
       "      <td>2</td>\n",
       "      <td>3</td>\n",
       "      <td>3</td>\n",
       "      <td>6</td>\n",
       "    </tr>\n",
       "    <tr>\n",
       "      <th>3</th>\n",
       "      <td>GP</td>\n",
       "      <td>F</td>\n",
       "      <td>15</td>\n",
       "      <td>U</td>\n",
       "      <td>GT3</td>\n",
       "      <td>T</td>\n",
       "      <td>4</td>\n",
       "      <td>2</td>\n",
       "      <td>health</td>\n",
       "      <td>services</td>\n",
       "      <td>...</td>\n",
       "      <td>yes</td>\n",
       "      <td>yes</td>\n",
       "      <td>yes</td>\n",
       "      <td>3</td>\n",
       "      <td>2</td>\n",
       "      <td>2</td>\n",
       "      <td>1</td>\n",
       "      <td>1</td>\n",
       "      <td>5</td>\n",
       "      <td>0</td>\n",
       "    </tr>\n",
       "    <tr>\n",
       "      <th>4</th>\n",
       "      <td>GP</td>\n",
       "      <td>F</td>\n",
       "      <td>16</td>\n",
       "      <td>U</td>\n",
       "      <td>GT3</td>\n",
       "      <td>T</td>\n",
       "      <td>3</td>\n",
       "      <td>3</td>\n",
       "      <td>other</td>\n",
       "      <td>other</td>\n",
       "      <td>...</td>\n",
       "      <td>yes</td>\n",
       "      <td>no</td>\n",
       "      <td>no</td>\n",
       "      <td>4</td>\n",
       "      <td>3</td>\n",
       "      <td>2</td>\n",
       "      <td>1</td>\n",
       "      <td>2</td>\n",
       "      <td>5</td>\n",
       "      <td>0</td>\n",
       "    </tr>\n",
       "  </tbody>\n",
       "</table>\n",
       "<p>5 rows × 30 columns</p>\n",
       "</div>"
      ],
      "text/plain": [
       "  school sex  age address famsize Pstatus  Medu  Fedu     Mjob      Fjob  ...  \\\n",
       "0     GP   F   18       U     GT3       A     4     4  at_home   teacher  ...   \n",
       "1     GP   F   17       U     GT3       T     1     1  at_home     other  ...   \n",
       "2     GP   F   15       U     LE3       T     1     1  at_home     other  ...   \n",
       "3     GP   F   15       U     GT3       T     4     2   health  services  ...   \n",
       "4     GP   F   16       U     GT3       T     3     3    other     other  ...   \n",
       "\n",
       "  higher internet  romantic  famrel  freetime goout Dalc Walc health absences  \n",
       "0    yes       no        no       4         3     4    1    1      3        4  \n",
       "1    yes      yes        no       5         3     3    1    1      3        2  \n",
       "2    yes      yes        no       4         3     2    2    3      3        6  \n",
       "3    yes      yes       yes       3         2     2    1    1      5        0  \n",
       "4    yes       no        no       4         3     2    1    2      5        0  \n",
       "\n",
       "[5 rows x 30 columns]"
      ]
     },
     "execution_count": 37,
     "metadata": {},
     "output_type": "execute_result"
    }
   ],
   "source": [
    "X.head(5) "
   ]
  },
  {
   "cell_type": "code",
   "execution_count": 38,
   "id": "a5643ed7",
   "metadata": {},
   "outputs": [
    {
     "name": "stdout",
     "output_type": "stream",
     "text": [
      "\n",
      "Formato dos Dados:\n",
      "X: (649, 30)\n",
      "y: (649, 3)\n"
     ]
    }
   ],
   "source": [
    "# Data shape\n",
    "print(\"\\nFormato dos Dados:\")\n",
    "print(f\"X: {X.shape}\")\n",
    "print(f\"y: {y.shape}\")\n"
   ]
  },
  {
   "cell_type": "code",
   "execution_count": 39,
   "id": "28a7e860",
   "metadata": {},
   "outputs": [
    {
     "name": "stdout",
     "output_type": "stream",
     "text": [
      "\n",
      "Verificando valores ausentes:\n",
      "school        0\n",
      "sex           0\n",
      "age           0\n",
      "address       0\n",
      "famsize       0\n",
      "Pstatus       0\n",
      "Medu          0\n",
      "Fedu          0\n",
      "Mjob          0\n",
      "Fjob          0\n",
      "reason        0\n",
      "guardian      0\n",
      "traveltime    0\n",
      "studytime     0\n",
      "failures      0\n",
      "schoolsup     0\n",
      "famsup        0\n",
      "paid          0\n",
      "activities    0\n",
      "nursery       0\n",
      "higher        0\n",
      "internet      0\n",
      "romantic      0\n",
      "famrel        0\n",
      "freetime      0\n",
      "goout         0\n",
      "Dalc          0\n",
      "Walc          0\n",
      "health        0\n",
      "absences      0\n",
      "dtype: int64\n"
     ]
    }
   ],
   "source": [
    "# Data cleaning\n",
    "# check for missing values\n",
    "print(\"\\nVerificando valores ausentes:\")\n",
    "print(X.isnull().sum())"
   ]
  },
  {
   "cell_type": "code",
   "execution_count": null,
   "id": "594cedbe",
   "metadata": {},
   "outputs": [],
   "source": []
  }
 ],
 "metadata": {
  "kernelspec": {
   "display_name": "tcc_env",
   "language": "python",
   "name": "python3"
  },
  "language_info": {
   "codemirror_mode": {
    "name": "ipython",
    "version": 3
   },
   "file_extension": ".py",
   "mimetype": "text/x-python",
   "name": "python",
   "nbconvert_exporter": "python",
   "pygments_lexer": "ipython3",
   "version": "3.13.5"
  }
 },
 "nbformat": 4,
 "nbformat_minor": 5
}
