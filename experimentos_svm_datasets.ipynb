{
 "cells": [
  {
   "cell_type": "markdown",
   "id": "29af5c91",
   "metadata": {},
   "source": [
    "# Experimentos: Baseline com SVM Clássico\n",
    "\n",
    "Este notebook estabelece baselines de performance com um modelo de Support Vector Machine (SVM) clássico em datasets"
   ]
  },
  {
   "cell_type": "code",
   "execution_count": 5,
   "id": "29981d84",
   "metadata": {},
   "outputs": [],
   "source": [
    "from sklearn.datasets import load_breast_cancer # O Scikit-learn já tem o dataset 'Wisconsin Breast Cancer' pronto para usar.\n",
    "from sklearn.model_selection import train_test_split\n",
    "from sklearn.preprocessing import StandardScaler\n",
    "from sklearn.svm import SVC  # Importando o SVM Clássico\n",
    "from sklearn.metrics import classification_report\n",
    "import numpy as np\n"
   ]
  },
  {
   "cell_type": "markdown",
   "id": "59141e2f",
   "metadata": {},
   "source": [
    "## Loading data and initial analysis"
   ]
  },
  {
   "cell_type": "code",
   "execution_count": 11,
   "id": "d80e48ec",
   "metadata": {},
   "outputs": [
    {
     "name": "stdout",
     "output_type": "stream",
     "text": [
      "Dimensões dos dados: (569, 30)\n",
      "\n",
      "Distribuição das classes:\n",
      "Classe 0: 212 ocorrências\n",
      "Classe 1: 357 ocorrências\n"
     ]
    }
   ],
   "source": [
    "X, y = load_breast_cancer(return_X_y=True)  # Carregando o dataset\n",
    "\n",
    "# Verificando as dimensões dos nossos dados\n",
    "print(f\"Dimensões dos dados: {X.shape}\")\n",
    "\n",
    "\n",
    "# Vendo a distribuição das classes (0 e 1)\n",
    "print(\"\\nDistribuição das classes:\")\n",
    "# Usando numpy para contar as ocorrências de cada classe\n",
    "unique, counts = np.unique(y, return_counts=True)\n",
    "for class_label, count in zip(unique, counts):\n",
    "    print(f\"Classe {class_label}: {count} ocorrências\")\n"
   ]
  },
  {
   "cell_type": "markdown",
   "id": "f993b135",
   "metadata": {},
   "source": [
    "## Split data into training and testing sets"
   ]
  },
  {
   "cell_type": "code",
   "execution_count": 16,
   "id": "5bbd3fba",
   "metadata": {},
   "outputs": [
    {
     "name": "stdout",
     "output_type": "stream",
     "text": [
      "Dimensões do conjunto de treino: (426, 30)\n",
      "Dimensões do conjunto de teste: (143, 30)\n"
     ]
    }
   ],
   "source": [
    "X_train, X_test, y_train, y_test = train_test_split(X, y, test_size=0.25, random_state=42, stratify=y) # Stratify -> mantém a proporção das classes no split\n",
    "\n",
    "print(f\"Dimensões do conjunto de treino: {X_train.shape}\")\n",
    "print(f\"Dimensões do conjunto de teste: {X_test.shape}\")\n"
   ]
  },
  {
   "cell_type": "markdown",
   "id": "a7d66f6e",
   "metadata": {},
   "source": [
    "## Normalize data"
   ]
  },
  {
   "cell_type": "code",
   "execution_count": null,
   "id": "a4104d3a",
   "metadata": {},
   "outputs": [
    {
     "name": "stdout",
     "output_type": "stream",
     "text": [
      "\n",
      "Dados normalizados:\n",
      "Primeiras 5 amostras do conjunto de treino:\n",
      "[[ 1.65909581e+00  2.17205449e-01  1.61061990e+00  1.63333853e+00\n",
      "   5.76311605e-01  5.23544521e-01  6.45326310e-01  1.19874480e+00\n",
      "  -9.35149071e-05 -1.24425088e-01  4.14312264e-01 -5.97142095e-01\n",
      "   4.25167885e-01  4.97329621e-01 -6.44904409e-01 -1.38083245e-01\n",
      "  -6.02764307e-02  1.97953779e-02 -1.15354241e+00 -1.48976771e-01\n",
      "   1.56731877e+00 -7.58786987e-02  1.60722303e+00  1.38496870e+00\n",
      "   4.12628434e-01  4.61628950e-01  6.42584428e-01  7.01834827e-01\n",
      "  -5.56084149e-01  3.88780742e-01]\n",
      " [-3.38165388e-01 -1.38996798e+00 -4.01667191e-01 -3.87016967e-01\n",
      "  -1.98560357e+00 -1.25788628e+00 -8.20499587e-01 -9.49158284e-01\n",
      "  -1.68412696e+00 -9.64260327e-01 -9.34200568e-01 -1.30786873e+00\n",
      "  -8.77182308e-01 -6.41787667e-01 -7.60950999e-01 -6.56341150e-01\n",
      "  -4.87168505e-01 -9.07609237e-01 -5.19211037e-01 -6.10338974e-01\n",
      "  -5.37720315e-01 -1.61324355e+00 -5.80787585e-01 -5.29159641e-01\n",
      "  -1.60039981e+00 -8.71595894e-01 -7.26165291e-01 -9.00606246e-01\n",
      "  -9.23645636e-01 -7.97232986e-01]\n",
      " [ 8.74457480e-01 -6.51658617e-01  1.01036969e+00  7.61352983e-01\n",
      "   1.69410183e+00  2.35991434e+00  1.65717912e+00  2.38945281e+00\n",
      "   4.48341920e+00  1.57046481e+00  2.46008265e+00 -4.17484732e-01\n",
      "   2.28303019e+00  1.74982566e+00  3.08103892e-01  6.71221375e-01\n",
      "   1.47071148e-01  1.94406129e+00  2.58465687e-01  1.27842858e+00\n",
      "   1.25916270e+00 -6.83526521e-01  1.36477589e+00  1.05371169e+00\n",
      "   9.78433474e-01  8.56293104e-01  4.91058951e-01  2.09675055e+00\n",
      "   1.76721075e+00  1.16521656e+00]\n",
      " [ 9.20109164e-01 -4.98594481e-01  8.86179988e-01  8.06211184e-01\n",
      "   3.58755119e-01  1.21744577e-02  4.65963647e-01  9.18425243e-01\n",
      "   3.97438355e-02 -9.19985652e-01 -3.40733263e-01 -6.26821562e-01\n",
      "  -3.24234885e-01 -1.34248170e-01 -7.52523034e-01 -5.70866465e-01\n",
      "  -2.79820926e-01  1.52394506e-01 -7.73169328e-01 -5.11375020e-01\n",
      "   7.59450160e-01 -9.80903685e-02  7.21243356e-01  6.25763449e-01\n",
      "   4.08208082e-01 -9.58341668e-02  2.74267982e-01  1.06507862e+00\n",
      "   3.45973002e-01 -1.57501133e-01]\n",
      " [ 2.26398063e+00  5.86360129e-01  2.30194256e+00  2.40895130e+00\n",
      "   7.71362248e-01  1.74779107e+00  1.92807859e+00  2.64948951e+00\n",
      "   7.95811859e-02 -1.90837100e-01  2.31561271e+00 -9.02366432e-01\n",
      "   2.42921759e+00  2.20527877e+00 -1.00503782e+00  1.42143890e-01\n",
      "   9.95031741e-02  4.82313764e-01 -6.33210092e-01 -6.34189084e-03\n",
      "   2.38559806e+00  1.45545281e-02  2.63986826e+00  2.42529477e+00\n",
      "  -1.31074847e-01  8.16826689e-01  9.03189993e-01  1.92108347e+00\n",
      "  -2.62034958e-01  8.86728106e-02]]\n"
     ]
    }
   ],
   "source": [
    "# normalizing the data\n",
    "scaler = StandardScaler()\n",
    "X_train = scaler.fit_transform(X_train)  # Ajusta o scaler e transforma os dados de treino\n",
    "X_test = scaler.transform(X_test)  # Transforma os dados de teste com o mesmo scaler\n",
    "\n",
    "print(\"\\nDados normalizados:\")\n",
    "\n",
    "\n",
    "\n"
   ]
  }
 ],
 "metadata": {
  "kernelspec": {
   "display_name": "tcc_env",
   "language": "python",
   "name": "python3"
  },
  "language_info": {
   "codemirror_mode": {
    "name": "ipython",
    "version": 3
   },
   "file_extension": ".py",
   "mimetype": "text/x-python",
   "name": "python",
   "nbconvert_exporter": "python",
   "pygments_lexer": "ipython3",
   "version": "3.13.5"
  }
 },
 "nbformat": 4,
 "nbformat_minor": 5
}
