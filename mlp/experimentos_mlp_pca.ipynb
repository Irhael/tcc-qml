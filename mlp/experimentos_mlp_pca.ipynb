{
 "cells": [
  {
   "cell_type": "markdown",
   "id": "29af5c91",
   "metadata": {},
   "source": [
    "# Experimentos: Baseline com Rede Neural Clássica(MLP)\n",
    "\n",
    "Este notebook estabelece baselines de performance com um modelo de Rede Neural Clássica(MLP) em datasets"
   ]
  },
  {
   "cell_type": "markdown",
   "id": "1e355ce5",
   "metadata": {},
   "source": [
    "# Dataset = Breast Cancer Wisconsin (Diagnostic)"
   ]
  },
  {
   "cell_type": "code",
   "execution_count": 1,
   "id": "29981d84",
   "metadata": {},
   "outputs": [],
   "source": [
    "from sklearn.datasets import load_breast_cancer \n",
    "from sklearn.model_selection import train_test_split\n",
    "from sklearn.preprocessing import StandardScaler\n",
    "from sklearn.neural_network import MLPClassifier  # Importando MLP\n",
    "from sklearn.metrics import classification_report\n",
    "import numpy as np\n",
    "import pandas as pd"
   ]
  },
  {
   "cell_type": "markdown",
   "id": "59141e2f",
   "metadata": {},
   "source": [
    "## Loading data and initial analysis"
   ]
  },
  {
   "cell_type": "code",
   "execution_count": 2,
   "id": "d80e48ec",
   "metadata": {},
   "outputs": [
    {
     "name": "stdout",
     "output_type": "stream",
     "text": [
      "Dimensões dos dados: (569, 30)\n",
      "\n",
      "Distribuição das classes:\n",
      "Classe 0: 212 ocorrências\n",
      "Classe 1: 357 ocorrências\n"
     ]
    }
   ],
   "source": [
    "X, y = load_breast_cancer(return_X_y=True)  # Carregando o dataset\n",
    "\n",
    "# Verificando as dimensões dos nossos dados\n",
    "print(f\"Dimensões dos dados: {X.shape}\")\n",
    "\n",
    "\n",
    "# Vendo a distribuição das classes (0 e 1)\n",
    "print(\"\\nDistribuição das classes:\")\n",
    "# Usando numpy para contar as ocorrências de cada classe\n",
    "unique, counts = np.unique(y, return_counts=True)\n",
    "for class_label, count in zip(unique, counts):\n",
    "    print(f\"Classe {class_label}: {count} ocorrências\")\n"
   ]
  },
  {
   "cell_type": "markdown",
   "id": "f993b135",
   "metadata": {},
   "source": [
    "## Split data into training and testing sets"
   ]
  },
  {
   "cell_type": "code",
   "execution_count": 3,
   "id": "5bbd3fba",
   "metadata": {},
   "outputs": [
    {
     "name": "stdout",
     "output_type": "stream",
     "text": [
      "Dimensões do conjunto de treino: (426, 30)\n",
      "Dimensões do conjunto de teste: (143, 30)\n"
     ]
    }
   ],
   "source": [
    "X_train, X_test, y_train, y_test = train_test_split(X, y, test_size=0.25, random_state=42, stratify=y) # Stratify -> mantém a proporção das classes no split\n",
    "\n",
    "print(f\"Dimensões do conjunto de treino: {X_train.shape}\")\n",
    "print(f\"Dimensões do conjunto de teste: {X_test.shape}\")\n"
   ]
  },
  {
   "cell_type": "markdown",
   "id": "a7d66f6e",
   "metadata": {},
   "source": [
    "## Normalize data"
   ]
  },
  {
   "cell_type": "code",
   "execution_count": 4,
   "id": "a4104d3a",
   "metadata": {},
   "outputs": [
    {
     "name": "stdout",
     "output_type": "stream",
     "text": [
      "\n",
      "Dados normalizados\n"
     ]
    }
   ],
   "source": [
    "# normalizing the data\n",
    "scaler = StandardScaler()\n",
    "X_train = scaler.fit_transform(X_train)  # Ajusta o scaler e transforma os dados de treino\n",
    "X_test = scaler.transform(X_test)  # Transforma os dados de teste com o mesmo scaler\n",
    "\n",
    "print(\"\\nDados normalizados\")\n",
    "\n",
    "\n",
    "\n"
   ]
  },
  {
   "cell_type": "markdown",
   "id": "f7fd6780",
   "metadata": {},
   "source": [
    "## applying pca"
   ]
  },
  {
   "cell_type": "code",
   "execution_count": 5,
   "id": "0ef72f12",
   "metadata": {},
   "outputs": [
    {
     "name": "stdout",
     "output_type": "stream",
     "text": [
      "PCA aplicado. Dimensões reduzidas para 5 componentes.\n"
     ]
    }
   ],
   "source": [
    "from sklearn.decomposition import PCA\n",
    "\n",
    "N_COMPONENTES_BC = 5\n",
    "pca_bc = PCA(n_components=N_COMPONENTES_BC)\n",
    "\n",
    "\n",
    "X_train_pca = pca_bc.fit_transform(X_train)\n",
    "X_test_pca = pca_bc.transform(X_test)\n",
    "\n",
    "print(f\"PCA aplicado. Dimensões reduzidas para {N_COMPONENTES_BC} componentes.\")"
   ]
  },
  {
   "cell_type": "markdown",
   "id": "331668d2",
   "metadata": {},
   "source": [
    "# Training MLP model"
   ]
  },
  {
   "cell_type": "code",
   "execution_count": 6,
   "id": "2cecff1d",
   "metadata": {},
   "outputs": [
    {
     "name": "stdout",
     "output_type": "stream",
     "text": [
      "\n",
      "MLP com PCA treinado com sucesso!\n"
     ]
    }
   ],
   "source": [
    "# Treinando o modelo Rede neural MLP\n",
    "mlp_breast = MLPClassifier(hidden_layer_sizes=(100, 50), max_iter=1000, random_state=42)\n",
    "mlp_breast.fit(X_train_pca, y_train)  # Treinando o modelo com os dados de treino\n",
    "print(\"\\nMLP com PCA treinado com sucesso!\")"
   ]
  },
  {
   "cell_type": "markdown",
   "id": "138c4bc8",
   "metadata": {},
   "source": [
    "# Predictions"
   ]
  },
  {
   "cell_type": "code",
   "execution_count": 7,
   "id": "28634b7b",
   "metadata": {},
   "outputs": [
    {
     "name": "stdout",
     "output_type": "stream",
     "text": [
      "\n",
      "Relatório de Classificação PCA 5 features:\n",
      "              precision    recall  f1-score   support\n",
      "\n",
      "   malignant       0.93      0.96      0.94        53\n",
      "      benign       0.98      0.96      0.97        90\n",
      "\n",
      "    accuracy                           0.96       143\n",
      "   macro avg       0.95      0.96      0.96       143\n",
      "weighted avg       0.96      0.96      0.96       143\n",
      "\n"
     ]
    }
   ],
   "source": [
    "# predicting the test set com MLP\n",
    "mlp_predictions_breast = mlp_breast.predict(X_test_pca)\n",
    "# Avaliando o modelo\n",
    "print(\"\\nRelatório de Classificação PCA 5 features:\") \n",
    "print(classification_report(y_test, mlp_predictions_breast, target_names=load_breast_cancer().target_names))"
   ]
  },
  {
   "cell_type": "markdown",
   "id": "14d910f8",
   "metadata": {},
   "source": [
    "# Dataset = Student Performance"
   ]
  },
  {
   "cell_type": "code",
   "execution_count": 8,
   "id": "3c6daced",
   "metadata": {},
   "outputs": [
    {
     "name": "stdout",
     "output_type": "stream",
     "text": [
      "--- Dataset carregado localmente com sucesso! ---\n",
      "Formato das features (X): (649, 30)\n",
      "Formato dos alvos (y): (649, 3)\n",
      "\n",
      "5 primeiras linhas das features (X):\n"
     ]
    }
   ],
   "source": [
    "# Importando o dataset\n",
    "student_performance = 'student-por.csv'\n",
    "\n",
    "df_student_performance = pd.read_csv(student_performance, sep=',')  # Lendo o dataset com separador ','\n",
    "\n",
    "# 3. Replicamos a separação que a biblioteca fazia para nós:\n",
    "# y são as colunas de notas\n",
    "y = df_student_performance[['G1', 'G2', 'G3']]\n",
    "# X são TODAS as outras colunas\n",
    "X = df_student_performance.drop(columns=['G1', 'G2', 'G3'])\n",
    "\n",
    "# --- Verificações para confirmar que deu tudo certo ---\n",
    "print(\"--- Dataset carregado localmente com sucesso! ---\")\n",
    "print(\"Formato das features (X):\", X.shape)\n",
    "print(\"Formato dos alvos (y):\", y.shape)\n",
    "\n",
    "print(\"\\n5 primeiras linhas das features (X):\")\n"
   ]
  },
  {
   "cell_type": "code",
   "execution_count": 9,
   "id": "a6d0d899",
   "metadata": {},
   "outputs": [
    {
     "data": {
      "text/html": [
       "<div>\n",
       "<style scoped>\n",
       "    .dataframe tbody tr th:only-of-type {\n",
       "        vertical-align: middle;\n",
       "    }\n",
       "\n",
       "    .dataframe tbody tr th {\n",
       "        vertical-align: top;\n",
       "    }\n",
       "\n",
       "    .dataframe thead th {\n",
       "        text-align: right;\n",
       "    }\n",
       "</style>\n",
       "<table border=\"1\" class=\"dataframe\">\n",
       "  <thead>\n",
       "    <tr style=\"text-align: right;\">\n",
       "      <th></th>\n",
       "      <th>school</th>\n",
       "      <th>sex</th>\n",
       "      <th>age</th>\n",
       "      <th>address</th>\n",
       "      <th>famsize</th>\n",
       "      <th>Pstatus</th>\n",
       "      <th>Medu</th>\n",
       "      <th>Fedu</th>\n",
       "      <th>Mjob</th>\n",
       "      <th>Fjob</th>\n",
       "      <th>...</th>\n",
       "      <th>higher</th>\n",
       "      <th>internet</th>\n",
       "      <th>romantic</th>\n",
       "      <th>famrel</th>\n",
       "      <th>freetime</th>\n",
       "      <th>goout</th>\n",
       "      <th>Dalc</th>\n",
       "      <th>Walc</th>\n",
       "      <th>health</th>\n",
       "      <th>absences</th>\n",
       "    </tr>\n",
       "  </thead>\n",
       "  <tbody>\n",
       "    <tr>\n",
       "      <th>0</th>\n",
       "      <td>GP</td>\n",
       "      <td>F</td>\n",
       "      <td>18</td>\n",
       "      <td>U</td>\n",
       "      <td>GT3</td>\n",
       "      <td>A</td>\n",
       "      <td>4</td>\n",
       "      <td>4</td>\n",
       "      <td>at_home</td>\n",
       "      <td>teacher</td>\n",
       "      <td>...</td>\n",
       "      <td>yes</td>\n",
       "      <td>no</td>\n",
       "      <td>no</td>\n",
       "      <td>4</td>\n",
       "      <td>3</td>\n",
       "      <td>4</td>\n",
       "      <td>1</td>\n",
       "      <td>1</td>\n",
       "      <td>3</td>\n",
       "      <td>4</td>\n",
       "    </tr>\n",
       "    <tr>\n",
       "      <th>1</th>\n",
       "      <td>GP</td>\n",
       "      <td>F</td>\n",
       "      <td>17</td>\n",
       "      <td>U</td>\n",
       "      <td>GT3</td>\n",
       "      <td>T</td>\n",
       "      <td>1</td>\n",
       "      <td>1</td>\n",
       "      <td>at_home</td>\n",
       "      <td>other</td>\n",
       "      <td>...</td>\n",
       "      <td>yes</td>\n",
       "      <td>yes</td>\n",
       "      <td>no</td>\n",
       "      <td>5</td>\n",
       "      <td>3</td>\n",
       "      <td>3</td>\n",
       "      <td>1</td>\n",
       "      <td>1</td>\n",
       "      <td>3</td>\n",
       "      <td>2</td>\n",
       "    </tr>\n",
       "    <tr>\n",
       "      <th>2</th>\n",
       "      <td>GP</td>\n",
       "      <td>F</td>\n",
       "      <td>15</td>\n",
       "      <td>U</td>\n",
       "      <td>LE3</td>\n",
       "      <td>T</td>\n",
       "      <td>1</td>\n",
       "      <td>1</td>\n",
       "      <td>at_home</td>\n",
       "      <td>other</td>\n",
       "      <td>...</td>\n",
       "      <td>yes</td>\n",
       "      <td>yes</td>\n",
       "      <td>no</td>\n",
       "      <td>4</td>\n",
       "      <td>3</td>\n",
       "      <td>2</td>\n",
       "      <td>2</td>\n",
       "      <td>3</td>\n",
       "      <td>3</td>\n",
       "      <td>6</td>\n",
       "    </tr>\n",
       "    <tr>\n",
       "      <th>3</th>\n",
       "      <td>GP</td>\n",
       "      <td>F</td>\n",
       "      <td>15</td>\n",
       "      <td>U</td>\n",
       "      <td>GT3</td>\n",
       "      <td>T</td>\n",
       "      <td>4</td>\n",
       "      <td>2</td>\n",
       "      <td>health</td>\n",
       "      <td>services</td>\n",
       "      <td>...</td>\n",
       "      <td>yes</td>\n",
       "      <td>yes</td>\n",
       "      <td>yes</td>\n",
       "      <td>3</td>\n",
       "      <td>2</td>\n",
       "      <td>2</td>\n",
       "      <td>1</td>\n",
       "      <td>1</td>\n",
       "      <td>5</td>\n",
       "      <td>0</td>\n",
       "    </tr>\n",
       "    <tr>\n",
       "      <th>4</th>\n",
       "      <td>GP</td>\n",
       "      <td>F</td>\n",
       "      <td>16</td>\n",
       "      <td>U</td>\n",
       "      <td>GT3</td>\n",
       "      <td>T</td>\n",
       "      <td>3</td>\n",
       "      <td>3</td>\n",
       "      <td>other</td>\n",
       "      <td>other</td>\n",
       "      <td>...</td>\n",
       "      <td>yes</td>\n",
       "      <td>no</td>\n",
       "      <td>no</td>\n",
       "      <td>4</td>\n",
       "      <td>3</td>\n",
       "      <td>2</td>\n",
       "      <td>1</td>\n",
       "      <td>2</td>\n",
       "      <td>5</td>\n",
       "      <td>0</td>\n",
       "    </tr>\n",
       "  </tbody>\n",
       "</table>\n",
       "<p>5 rows × 30 columns</p>\n",
       "</div>"
      ],
      "text/plain": [
       "  school sex  age address famsize Pstatus  Medu  Fedu     Mjob      Fjob  ...  \\\n",
       "0     GP   F   18       U     GT3       A     4     4  at_home   teacher  ...   \n",
       "1     GP   F   17       U     GT3       T     1     1  at_home     other  ...   \n",
       "2     GP   F   15       U     LE3       T     1     1  at_home     other  ...   \n",
       "3     GP   F   15       U     GT3       T     4     2   health  services  ...   \n",
       "4     GP   F   16       U     GT3       T     3     3    other     other  ...   \n",
       "\n",
       "  higher internet  romantic  famrel  freetime goout Dalc Walc health absences  \n",
       "0    yes       no        no       4         3     4    1    1      3        4  \n",
       "1    yes      yes        no       5         3     3    1    1      3        2  \n",
       "2    yes      yes        no       4         3     2    2    3      3        6  \n",
       "3    yes      yes       yes       3         2     2    1    1      5        0  \n",
       "4    yes       no        no       4         3     2    1    2      5        0  \n",
       "\n",
       "[5 rows x 30 columns]"
      ]
     },
     "execution_count": 9,
     "metadata": {},
     "output_type": "execute_result"
    }
   ],
   "source": [
    "X.head(5) "
   ]
  },
  {
   "cell_type": "code",
   "execution_count": 10,
   "id": "a5643ed7",
   "metadata": {},
   "outputs": [
    {
     "name": "stdout",
     "output_type": "stream",
     "text": [
      "\n",
      "Dimensões do Student Performance Dataset:\n",
      "X: (649, 30)\n",
      "y: (649, 3)\n"
     ]
    }
   ],
   "source": [
    "# Dimensões dos dados do Student Performance Dataset\n",
    "print(\"\\nDimensões do Student Performance Dataset:\")\n",
    "print(f\"X: {X.shape}\")\n",
    "print(f\"y: {y.shape}\")\n"
   ]
  },
  {
   "cell_type": "code",
   "execution_count": 11,
   "id": "28a7e860",
   "metadata": {},
   "outputs": [
    {
     "name": "stdout",
     "output_type": "stream",
     "text": [
      "\n",
      "Verificando valores ausentes:\n",
      "school        0\n",
      "sex           0\n",
      "age           0\n",
      "address       0\n",
      "famsize       0\n",
      "Pstatus       0\n",
      "Medu          0\n",
      "Fedu          0\n",
      "Mjob          0\n",
      "Fjob          0\n",
      "reason        0\n",
      "guardian      0\n",
      "traveltime    0\n",
      "studytime     0\n",
      "failures      0\n",
      "schoolsup     0\n",
      "famsup        0\n",
      "paid          0\n",
      "activities    0\n",
      "nursery       0\n",
      "higher        0\n",
      "internet      0\n",
      "romantic      0\n",
      "famrel        0\n",
      "freetime      0\n",
      "goout         0\n",
      "Dalc          0\n",
      "Walc          0\n",
      "health        0\n",
      "absences      0\n",
      "dtype: int64\n"
     ]
    }
   ],
   "source": [
    "# Data cleaning\n",
    "# check for missing values\n",
    "print(\"\\nVerificando valores ausentes:\")\n",
    "print(X.isnull().sum())"
   ]
  },
  {
   "cell_type": "markdown",
   "id": "4b7a1564",
   "metadata": {},
   "source": [
    "## Pré-processamento dataset Student Performance"
   ]
  },
  {
   "cell_type": "code",
   "execution_count": 12,
   "id": "594cedbe",
   "metadata": {},
   "outputs": [
    {
     "name": "stdout",
     "output_type": "stream",
     "text": [
      "\n",
      "Distribuição das classes (Aprovado/Reprovado):\n",
      "1    549\n",
      "0    100\n",
      "Name: count, dtype: int64\n"
     ]
    }
   ],
   "source": [
    "# creating classification targets\n",
    "y_final = np.where(y['G3'] >= 10, 1, 0)  # Convertendo a nota final em uma classificação binária (aprovado/reprovado). Usando 10 como o limite de aprovação.\n",
    "# 1 representa aprovado e 0 representa reprovado.\n",
    "# Verificando a distribuição das classes\n",
    "print(\"\\nDistribuição das classes (Aprovado/Reprovado):\")\n",
    "print(pd.Series(y_final).value_counts()) # Contando as ocorrências de cada classe. usando pd.Series para criar uma série pandas a partir do array numpy\n",
    "\n",
    "\n"
   ]
  },
  {
   "cell_type": "code",
   "execution_count": 13,
   "id": "16f3f4c1",
   "metadata": {},
   "outputs": [
    {
     "name": "stdout",
     "output_type": "stream",
     "text": [
      "\n",
      "Dimensões dos dados após a codificação:\n",
      "Formato das features (X) antes do processamento: (649, 30)\n",
      "Formato das features (X) após o processamento: (649, 39)\n",
      "\n",
      "Primeiras linhas dos dados codificados:\n",
      "   age  Medu  Fedu  traveltime  studytime  failures  famrel  freetime  goout  \\\n",
      "0   18     4     4           2          2         0       4         3      4   \n",
      "1   17     1     1           1          2         0       5         3      3   \n",
      "2   15     1     1           1          2         0       4         3      2   \n",
      "3   15     4     2           1          3         0       3         2      2   \n",
      "4   16     3     3           1          2         0       4         3      2   \n",
      "\n",
      "   Dalc  ...  guardian_mother  guardian_other  schoolsup_yes  famsup_yes  \\\n",
      "0     1  ...             True           False           True       False   \n",
      "1     1  ...            False           False          False        True   \n",
      "2     2  ...             True           False           True       False   \n",
      "3     1  ...             True           False          False        True   \n",
      "4     1  ...            False           False          False        True   \n",
      "\n",
      "   paid_yes  activities_yes  nursery_yes  higher_yes  internet_yes  \\\n",
      "0     False           False         True        True         False   \n",
      "1     False           False        False        True          True   \n",
      "2     False           False         True        True          True   \n",
      "3     False            True         True        True          True   \n",
      "4     False           False         True        True         False   \n",
      "\n",
      "   romantic_yes  \n",
      "0         False  \n",
      "1         False  \n",
      "2         False  \n",
      "3          True  \n",
      "4         False  \n",
      "\n",
      "[5 rows x 39 columns]\n",
      "age                  int64\n",
      "Medu                 int64\n",
      "Fedu                 int64\n",
      "traveltime           int64\n",
      "studytime            int64\n",
      "failures             int64\n",
      "famrel               int64\n",
      "freetime             int64\n",
      "goout                int64\n",
      "Dalc                 int64\n",
      "Walc                 int64\n",
      "health               int64\n",
      "absences             int64\n",
      "school_MS             bool\n",
      "sex_M                 bool\n",
      "address_U             bool\n",
      "famsize_LE3           bool\n",
      "Pstatus_T             bool\n",
      "Mjob_health           bool\n",
      "Mjob_other            bool\n",
      "Mjob_services         bool\n",
      "Mjob_teacher          bool\n",
      "Fjob_health           bool\n",
      "Fjob_other            bool\n",
      "Fjob_services         bool\n",
      "Fjob_teacher          bool\n",
      "reason_home           bool\n",
      "reason_other          bool\n",
      "reason_reputation     bool\n",
      "guardian_mother       bool\n",
      "guardian_other        bool\n",
      "schoolsup_yes         bool\n",
      "famsup_yes            bool\n",
      "paid_yes              bool\n",
      "activities_yes        bool\n",
      "nursery_yes           bool\n",
      "higher_yes            bool\n",
      "internet_yes          bool\n",
      "romantic_yes          bool\n",
      "dtype: object\n"
     ]
    }
   ],
   "source": [
    "# The dataset seem unbalanced, so it has to be balanced\n",
    "\n",
    "# tranforming text features into numerical features\n",
    "X_final = pd.get_dummies(X, drop_first=True)  # Convertendo variáveis categóricas em variáveis dummy # drop_first=True evita a armadilha da variável fictícia\n",
    "# Verificando as dimensões dos dados após a codificação\n",
    "print(\"\\nDimensões dos dados após a codificação:\") \n",
    "print(\"Formato das features (X) antes do processamento:\", X.shape)\n",
    "print(\"Formato das features (X) após o processamento:\", X_final.shape)\n",
    "# Verificando as primeiras linhas dos dados codificados\n",
    "print(\"\\nPrimeiras linhas dos dados codificados:\")\n",
    "print(X_final.head())\n",
    "print(X_final.dtypes)\n",
    "\n"
   ]
  },
  {
   "cell_type": "markdown",
   "id": "658bd5ca",
   "metadata": {},
   "source": [
    "## Spliting data into training and testing sets"
   ]
  },
  {
   "cell_type": "code",
   "execution_count": 14,
   "id": "bfc65197",
   "metadata": {},
   "outputs": [
    {
     "name": "stdout",
     "output_type": "stream",
     "text": [
      "\n",
      "Dimensões do conjunto de treino: (486, 39)\n",
      "Dimensões do conjunto de teste: (163, 39)\n"
     ]
    }
   ],
   "source": [
    "X_train, X_test, y_train, y_test = train_test_split(X_final, y_final, test_size=0.25, random_state=42, stratify=y_final)  # Stratify -> mantém a proporção das classes no split\n",
    "\n",
    "print(f\"\\nDimensões do conjunto de treino: {X_train.shape}\")\n",
    "print(f\"Dimensões do conjunto de teste: {X_test.shape}\")"
   ]
  },
  {
   "cell_type": "markdown",
   "id": "d3fb89b6",
   "metadata": {},
   "source": [
    "## Normalizing "
   ]
  },
  {
   "cell_type": "code",
   "execution_count": 15,
   "id": "d769cbd3",
   "metadata": {},
   "outputs": [],
   "source": [
    "scaler = StandardScaler()\n",
    "X_train_scaled = scaler.fit_transform(X_train)  \n",
    "X_test_scaled = scaler.transform(X_test)  "
   ]
  },
  {
   "cell_type": "markdown",
   "id": "636cba89",
   "metadata": {},
   "source": [
    "## applying PCA and smote"
   ]
  },
  {
   "cell_type": "code",
   "execution_count": 16,
   "id": "9cdbe96f",
   "metadata": {},
   "outputs": [
    {
     "name": "stdout",
     "output_type": "stream",
     "text": [
      "PCA aplicado. Dimensões reduzidas para 5 componentes.\n",
      "\n",
      "Distribuição de classes no treino DEPOIS do SMOTE:\n",
      "1    411\n",
      "0    411\n",
      "Name: count, dtype: int64\n"
     ]
    }
   ],
   "source": [
    "# Using SMOTE to balance the dataset\n",
    "from imblearn.over_sampling import SMOTE\n",
    "\n",
    "N_COMPONENTES_SP = 5\n",
    "pca_sp = PCA(n_components=N_COMPONENTES_SP)\n",
    "\n",
    "X_train_pca_sp = pca_sp.fit_transform(X_train_scaled)\n",
    "X_test_pca_sp = pca_sp.transform(X_test_scaled)\n",
    "\n",
    "print(f\"PCA aplicado. Dimensões reduzidas para {N_COMPONENTES_SP} componentes.\")\n",
    "\n",
    "# applying smote on the pca-transformed data\n",
    "smote_pca = SMOTE(random_state=42)\n",
    "X_train_resampled_pca, y_train_resampled_pca = smote_pca.fit_resample(X_train_pca_sp, y_train)\n",
    "\n",
    "# Verificando o balanceamento DEPOIS do SMOTE\n",
    "print(\"\\nDistribuição de classes no treino DEPOIS do SMOTE:\")\n",
    "print(pd.Series(y_train_resampled_pca).value_counts())\n"
   ]
  },
  {
   "cell_type": "markdown",
   "id": "601cadab",
   "metadata": {},
   "source": [
    "## Training the dataset"
   ]
  },
  {
   "cell_type": "code",
   "execution_count": 17,
   "id": "a4b23d13",
   "metadata": {},
   "outputs": [
    {
     "name": "stdout",
     "output_type": "stream",
     "text": [
      "\n",
      "MLP com pca treinado com sucesso no dataset de students\n",
      "\n",
      "Relatório de Classificação para o dataset de students:\n",
      "              precision    recall  f1-score   support\n",
      "\n",
      "   Reprovado       0.22      0.28      0.25        25\n",
      "    Aprovado       0.86      0.82      0.84       138\n",
      "\n",
      "    accuracy                           0.74       163\n",
      "   macro avg       0.54      0.55      0.54       163\n",
      "weighted avg       0.76      0.74      0.75       163\n",
      "\n"
     ]
    }
   ],
   "source": [
    "# training the MLP model with the balanced dataset\n",
    "mlp_student = MLPClassifier(hidden_layer_sizes=(100, 50), max_iter=1000, random_state=42)\n",
    "mlp_student.fit(X_train_resampled_pca, y_train_resampled_pca)  # Treinando o modelo com os dados de treino balanceados\n",
    "\n",
    "print(\"\\nMLP com pca treinado com sucesso no dataset de students\")\n",
    "\n",
    "# predicting the test set com MLP\n",
    "mlp_predictions_student = mlp_student.predict(X_test_pca_sp)\n",
    "# Avaliando o modelo\n",
    "print(\"\\nRelatório de Classificação para o dataset de students:\")\n",
    "print(classification_report(y_test, mlp_predictions_student, target_names=['Reprovado', 'Aprovado']))\n"
   ]
  }
 ],
 "metadata": {
  "kernelspec": {
   "display_name": "tcc_env",
   "language": "python",
   "name": "python3"
  },
  "language_info": {
   "codemirror_mode": {
    "name": "ipython",
    "version": 3
   },
   "file_extension": ".py",
   "mimetype": "text/x-python",
   "name": "python",
   "nbconvert_exporter": "python",
   "pygments_lexer": "ipython3",
   "version": "3.13.3"
  }
 },
 "nbformat": 4,
 "nbformat_minor": 5
}
