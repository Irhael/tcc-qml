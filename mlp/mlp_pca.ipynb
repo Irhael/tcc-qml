{
 "cells": [
  {
   "cell_type": "markdown",
   "id": "29af5c91",
   "metadata": {},
   "source": [
    "# Experimentos: Baseline com Rede Neural Clássica(MLP)\n",
    "\n",
    "Este notebook estabelece baselines de performance com um modelo de Rede Neural Clássica(MLP) em datasets"
   ]
  },
  {
   "cell_type": "markdown",
   "id": "1e355ce5",
   "metadata": {},
   "source": [
    "# Dataset = Breast Cancer Wisconsin (Diagnostic)"
   ]
  },
  {
   "cell_type": "code",
   "execution_count": 1,
   "id": "29981d84",
   "metadata": {},
   "outputs": [],
   "source": [
    "from sklearn.datasets import load_breast_cancer \n",
    "from sklearn.model_selection import train_test_split\n",
    "from sklearn.preprocessing import StandardScaler\n",
    "from sklearn.neural_network import MLPClassifier  # Importando MLP\n",
    "from sklearn.metrics import classification_report\n",
    "import numpy as np\n",
    "import pandas as pd"
   ]
  },
  {
   "cell_type": "markdown",
   "id": "59141e2f",
   "metadata": {},
   "source": [
    "## Loading data and initial analysis"
   ]
  },
  {
   "cell_type": "code",
   "execution_count": 2,
   "id": "d80e48ec",
   "metadata": {},
   "outputs": [
    {
     "name": "stdout",
     "output_type": "stream",
     "text": [
      "Dimensões dos dados: (569, 30)\n",
      "\n",
      "Distribuição das classes:\n",
      "Classe 0: 212 ocorrências\n",
      "Classe 1: 357 ocorrências\n"
     ]
    }
   ],
   "source": [
    "X, y = load_breast_cancer(return_X_y=True)  # Carregando o dataset\n",
    "\n",
    "# Verificando as dimensões dos nossos dados\n",
    "print(f\"Dimensões dos dados: {X.shape}\")\n",
    "\n",
    "\n",
    "# Vendo a distribuição das classes (0 e 1)\n",
    "print(\"\\nDistribuição das classes:\")\n",
    "# Usando numpy para contar as ocorrências de cada classe\n",
    "unique, counts = np.unique(y, return_counts=True)\n",
    "for class_label, count in zip(unique, counts):\n",
    "    print(f\"Classe {class_label}: {count} ocorrências\")\n"
   ]
  },
  {
   "cell_type": "markdown",
   "id": "f993b135",
   "metadata": {},
   "source": [
    "## Split data into training and testing sets"
   ]
  },
  {
   "cell_type": "code",
   "execution_count": 3,
   "id": "5bbd3fba",
   "metadata": {},
   "outputs": [
    {
     "name": "stdout",
     "output_type": "stream",
     "text": [
      "Dimensões do conjunto de treino: (426, 30)\n",
      "Dimensões do conjunto de teste: (143, 30)\n"
     ]
    }
   ],
   "source": [
    "X_train, X_test, y_train, y_test = train_test_split(X, y, test_size=0.25, random_state=42, stratify=y) # Stratify -> mantém a proporção das classes no split\n",
    "\n",
    "print(f\"Dimensões do conjunto de treino: {X_train.shape}\")\n",
    "print(f\"Dimensões do conjunto de teste: {X_test.shape}\")\n"
   ]
  },
  {
   "cell_type": "markdown",
   "id": "a7d66f6e",
   "metadata": {},
   "source": [
    "## Normalize data"
   ]
  },
  {
   "cell_type": "code",
   "execution_count": 4,
   "id": "a4104d3a",
   "metadata": {},
   "outputs": [
    {
     "name": "stdout",
     "output_type": "stream",
     "text": [
      "\n",
      "Dados normalizados\n"
     ]
    }
   ],
   "source": [
    "# normalizing the data\n",
    "scaler = StandardScaler()\n",
    "X_train = scaler.fit_transform(X_train)  # Ajusta o scaler e transforma os dados de treino\n",
    "X_test = scaler.transform(X_test)  # Transforma os dados de teste com o mesmo scaler\n",
    "\n",
    "print(\"\\nDados normalizados\")\n",
    "\n",
    "\n",
    "\n"
   ]
  },
  {
   "cell_type": "markdown",
   "id": "f7fd6780",
   "metadata": {},
   "source": [
    "## applying pca"
   ]
  },
  {
   "cell_type": "code",
   "execution_count": 5,
   "id": "0ef72f12",
   "metadata": {},
   "outputs": [
    {
     "name": "stdout",
     "output_type": "stream",
     "text": [
      "PCA aplicado. Dimensões reduzidas para 5 componentes.\n"
     ]
    }
   ],
   "source": [
    "from sklearn.decomposition import PCA\n",
    "\n",
    "N_COMPONENTES_BC = 5\n",
    "pca_bc = PCA(n_components=N_COMPONENTES_BC)\n",
    "\n",
    "\n",
    "X_train_pca = pca_bc.fit_transform(X_train)\n",
    "X_test_pca = pca_bc.transform(X_test)\n",
    "\n",
    "print(f\"PCA aplicado. Dimensões reduzidas para {N_COMPONENTES_BC} componentes.\")"
   ]
  },
  {
   "cell_type": "markdown",
   "id": "331668d2",
   "metadata": {},
   "source": [
    "# Training MLP model"
   ]
  },
  {
   "cell_type": "code",
   "execution_count": 6,
   "id": "2cecff1d",
   "metadata": {},
   "outputs": [
    {
     "name": "stdout",
     "output_type": "stream",
     "text": [
      "\n",
      "MLP com PCA treinado com sucesso!\n"
     ]
    }
   ],
   "source": [
    "# Treinando o modelo Rede neural MLP\n",
    "mlp_breast = MLPClassifier(hidden_layer_sizes=(100, 50), max_iter=1000, random_state=42)\n",
    "mlp_breast.fit(X_train_pca, y_train)  # Treinando o modelo com os dados de treino\n",
    "print(\"\\nMLP com PCA treinado com sucesso!\")"
   ]
  },
  {
   "cell_type": "markdown",
   "id": "138c4bc8",
   "metadata": {},
   "source": [
    "# Predictions"
   ]
  },
  {
   "cell_type": "code",
   "execution_count": 7,
   "id": "28634b7b",
   "metadata": {},
   "outputs": [
    {
     "name": "stdout",
     "output_type": "stream",
     "text": [
      "\n",
      "Relatório de Classificação PCA 5 features:\n",
      "              precision    recall  f1-score   support\n",
      "\n",
      "   malignant       0.93      0.96      0.94        53\n",
      "      benign       0.98      0.96      0.97        90\n",
      "\n",
      "    accuracy                           0.96       143\n",
      "   macro avg       0.95      0.96      0.96       143\n",
      "weighted avg       0.96      0.96      0.96       143\n",
      "\n"
     ]
    }
   ],
   "source": [
    "# predicting the test set com MLP\n",
    "mlp_predictions_breast = mlp_breast.predict(X_test_pca)\n",
    "# Avaliando o modelo\n",
    "print(\"\\nRelatório de Classificação PCA 5 features:\") \n",
    "print(classification_report(y_test, mlp_predictions_breast, target_names=load_breast_cancer().target_names))"
   ]
  },
  {
   "cell_type": "markdown",
   "id": "14d910f8",
   "metadata": {},
   "source": [
    "# Dataset = Student Performance"
   ]
  },
  {
   "cell_type": "code",
   "execution_count": null,
   "id": "3c6daced",
   "metadata": {},
   "outputs": [],
   "source": [
    "from imblearn.over_sampling import SMOTE\n",
    "from sklearn.decomposition import PCA\n",
    "\n",
    "def run_mlp_pca(filepath, subject_name, n_components=5, separator=','):\n",
    "\n",
    "    print(f\" Iniciando processamento: MLP com PCA para conjunto de:({subject_name})    \"))\n",
    "    \n",
    "    # Carregamento e Pré-processamento\n",
    "    df = pd.read_csv(filepath, sep=separator)\n",
    "    y_grades = df[['G1', 'G2', 'G3']]\n",
    "    X_features = df.drop(columns=['G1', 'G2', 'G3'])\n",
    "    y_final = np.where(y_grades['G3'] >= 10, 1, 0)\n",
    "    X_final = pd.get_dummies(X_features, drop_first=True)\n",
    "\n",
    "    # Divisão e Normalização\n",
    "    X_train, X_test, y_train, y_test = train_test_split(\n",
    "        X_final, y_final, test_size=0.25, random_state=42, stratify=y_final\n",
    "    )\n",
    "    \n",
    "    scaler = StandardScaler()\n",
    "    X_train_scaled_full = scaler.fit_transform(X_train)\n",
    "    X_test_scaled_full = scaler.transform(X_test)\n",
    "    \n",
    "    # Aplicação do PCA\n",
    "    pca = PCA(n_components=n_components)\n",
    "    X_train_pca = pca.fit_transform(X_train_scaled_full)\n",
    "    X_test_pca = pca.transform(X_test_scaled_full)\n",
    "    \n",
    "    # SMOTE (nos dados já reduzidos com PCA)\n",
    "    smote = SMOTE(random_state=42)\n",
    "    X_train_resampled, y_train_resampled = smote.fit_resample(X_train_pca, y_train)\n",
    "    \n",
    "    # Treinamento e Avaliação do MLP\n",
    "    mlp_model = MLPClassifier(hidden_layer_sizes=(100, 50), max_iter=1000, random_state=42)\n",
    "    mlp_model.fit(X_train_resampled, y_train_resampled)\n",
    "    \n",
    "    predictions = mlp_model.predict(X_test_pca)\n",
    "    \n",
    "    print(f\"\\n  Relatório de Classificação   \")\n",
    "    print(classification_report(y_test, predictions, target_names=['Reprovado', 'Aprovado']))"
   ]
  },
  {
   "cell_type": "code",
   "execution_count": 9,
   "id": "a4b23d13",
   "metadata": {},
   "outputs": [
    {
     "name": "stdout",
     "output_type": "stream",
     "text": [
      "  Iniciando Experimento: MLP com PCA de 5 Componentes (Português)   \n",
      "\n",
      "  Relatório de Classificação   \n",
      "              precision    recall  f1-score   support\n",
      "\n",
      "   Reprovado       0.22      0.28      0.25        25\n",
      "    Aprovado       0.86      0.82      0.84       138\n",
      "\n",
      "    accuracy                           0.74       163\n",
      "   macro avg       0.54      0.55      0.54       163\n",
      "weighted avg       0.76      0.74      0.75       163\n",
      "\n",
      "\n",
      "==================================================\n",
      "\n",
      "  Iniciando Experimento: MLP com PCA de 5 Componentes (Math)   \n",
      "\n",
      "  Relatório de Classificação   \n",
      "              precision    recall  f1-score   support\n",
      "\n",
      "   Reprovado       0.41      0.36      0.39        33\n",
      "    Aprovado       0.70      0.74      0.72        66\n",
      "\n",
      "    accuracy                           0.62        99\n",
      "   macro avg       0.56      0.55      0.55        99\n",
      "weighted avg       0.60      0.62      0.61        99\n",
      "\n"
     ]
    }
   ],
   "source": [
    "\n",
    "path_portugues = '../data/student-por.csv'\n",
    "path_matematica = '../data/student-mat.csv'\n",
    "\n",
    "\n",
    "run_mlp_pca(filepath=path_portugues, subject_name=\"Português\", separator=\",\")\n",
    "\n",
    "print(\"\\n\" + \"=\"*50 + \"\\n\") \n",
    "\n",
    "\n",
    "run_mlp_pca(filepath=path_matematica, subject_name=\"Math\", separator=\";\")"
   ]
  }
 ],
 "metadata": {
  "kernelspec": {
   "display_name": "tcc_env",
   "language": "python",
   "name": "python3"
  },
  "language_info": {
   "codemirror_mode": {
    "name": "ipython",
    "version": 3
   },
   "file_extension": ".py",
   "mimetype": "text/x-python",
   "name": "python",
   "nbconvert_exporter": "python",
   "pygments_lexer": "ipython3",
   "version": "3.13.3"
  }
 },
 "nbformat": 4,
 "nbformat_minor": 5
}
