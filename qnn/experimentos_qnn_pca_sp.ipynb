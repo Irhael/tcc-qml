{
 "cells": [
  {
   "cell_type": "markdown",
   "id": "515aef48",
   "metadata": {},
   "source": [
    "# ede Neural Quântica (VQC) com PCA no Student Performance\n",
    "\n",
    "Este notebook treina e avalia uma Rede Neural Quântica (VQC) no dataset Student Performance, utilizando de Redução de Dimensionalidade com PCA."
   ]
  },
  {
   "cell_type": "code",
   "execution_count": 1,
   "id": "16f6ab5b",
   "metadata": {},
   "outputs": [],
   "source": [
    "\n",
    "import time\n",
    "import numpy as np\n",
    "import pandas as pd\n",
    "from sklearn.model_selection import train_test_split\n",
    "from sklearn.preprocessing import StandardScaler\n",
    "from sklearn.metrics import classification_report\n",
    "\n",
    "from qiskit.circuit.library import ZZFeatureMap, RealAmplitudes\n",
    "from qiskit.primitives import StatevectorSampler\n",
    "from qiskit_machine_learning.algorithms.classifiers import VQC\n",
    "from qiskit_machine_learning.optimizers import COBYLA\n",
    "from sklearn.decomposition import PCA\n",
    "import matplotlib.pyplot as plt\n",
    "\n",
    "\n",
    "from imblearn.over_sampling import SMOTE"
   ]
  },
  {
   "cell_type": "code",
   "execution_count": null,
   "id": "81d210a4",
   "metadata": {},
   "outputs": [
    {
     "name": "stdout",
     "output_type": "stream",
     "text": [
      "Formato features (X_final): (649, 39)\n",
      "Distribuição das classes (Aprovado/Reprovado):\n",
      "1    549\n",
      "0    100\n",
      "Name: count, dtype: int64\n"
     ]
    }
   ],
   "source": [
    "\n",
    "path = 'student-por.csv'\n",
    "df_completo = pd.read_csv(path, sep=',')\n",
    "\n",
    "\n",
    "y_grades = df_completo[['G1', 'G2', 'G3']]\n",
    "X_features = df_completo.drop(columns=['G1', 'G2', 'G3'])\n",
    "\n",
    "\n",
    "y_final = np.where(y_grades['G3'] >= 10, 1, 0)\n",
    "\n",
    "\n",
    "X_final = pd.get_dummies(X_features, drop_first=True)\n",
    "\n",
    "print(\"--- Dataset Student Performance preparado ---\")\n",
    "print(\"Formato das features (X_final):\", X_final.shape)"
   ]
  },
  {
   "cell_type": "code",
   "execution_count": null,
   "id": "de4960c2",
   "metadata": {},
   "outputs": [],
   "source": [
    "\n",
    "X_train_full, X_test_full, y_train, y_test = train_test_split(\n",
    "    X_final, y_final, test_size=0.25, random_state=42, stratify=y_final\n",
    ")\n",
    "\n",
    "\n",
    "scaler = StandardScaler()\n",
    "X_train_scaled = scaler.fit_transform(X_train_full)\n",
    "X_test_scaled = scaler.transform(X_test_full)\n",
    "print(\"Dados originais divididos e normalizados.\")\n",
    "\n",
    "\n",
    "N_COMPONENTES = 5 \n",
    "pca = PCA(n_components=N_COMPONENTES)\n",
    "X_train_pca = pca.fit_transform(X_train_scaled)\n",
    "X_test_pca = pca.transform(X_test_scaled)\n",
    "\n",
    "print(f\"PCA aplicado. Dimensões reduzidas para {N_COMPONENTES} componentes.\")"
   ]
  },
  {
   "cell_type": "code",
   "execution_count": null,
   "id": "1a2138e9",
   "metadata": {},
   "outputs": [],
   "source": [
    "\n",
    "smote = SMOTE(random_state=42)\n",
    "X_train_resampled_pca, y_train_resampled = smote.fit_resample(X_train_pca, y_train)\n",
    "\n",
    "print(\"\\n--- Balanceamento do Conjunto de Treino DEPOIS do SMOTE ---\")\n",
    "print(pd.Series(y_train_resampled).value_counts())"
   ]
  },
  {
   "cell_type": "code",
   "execution_count": null,
   "id": "1b4eb9c0",
   "metadata": {},
   "outputs": [
    {
     "name": "stderr",
     "output_type": "stream",
     "text": [
      "No gradient function provided, creating a gradient function. If your Sampler requires transpilation, please provide a pass manager.\n"
     ]
    },
    {
     "name": "stdout",
     "output_type": "stream",
     "text": [
      "\n",
      "Instância do VQC criada. Iniciando treinamento...\n",
      "Modelo VQC treinado em 1278.94 segundos.\n"
     ]
    },
    {
     "ename": "QiskitMachineLearningError",
     "evalue": "'Input data has incorrect shape, last dimension is not equal to the number of inputs: 5, but got: 39.'",
     "output_type": "error",
     "traceback": [
      "\u001b[31m---------------------------------------------------------------------------\u001b[39m",
      "\u001b[31mQiskitMachineLearningError\u001b[39m                Traceback (most recent call last)",
      "\u001b[36mCell\u001b[39m\u001b[36m \u001b[39m\u001b[32mIn[5]\u001b[39m\u001b[32m, line 30\u001b[39m\n\u001b[32m     27\u001b[39m end_time = time.time()\n\u001b[32m     28\u001b[39m \u001b[38;5;28mprint\u001b[39m(\u001b[33mf\u001b[39m\u001b[33m\"\u001b[39m\u001b[33mModelo VQC treinado em \u001b[39m\u001b[38;5;132;01m{\u001b[39;00mend_time\u001b[38;5;250m \u001b[39m-\u001b[38;5;250m \u001b[39mstart_time\u001b[38;5;132;01m:\u001b[39;00m\u001b[33m.2f\u001b[39m\u001b[38;5;132;01m}\u001b[39;00m\u001b[33m segundos.\u001b[39m\u001b[33m\"\u001b[39m)\n\u001b[32m---> \u001b[39m\u001b[32m30\u001b[39m vqc_predictions_sp = \u001b[43mvqc_sp\u001b[49m\u001b[43m.\u001b[49m\u001b[43mpredict\u001b[49m\u001b[43m(\u001b[49m\u001b[43mX_test_scaled\u001b[49m\u001b[43m)\u001b[49m\n\u001b[32m     32\u001b[39m \u001b[38;5;28mprint\u001b[39m(\u001b[33m\"\u001b[39m\u001b[38;5;130;01m\\n\u001b[39;00m\u001b[33m--- Relatório de Classificação para a QNN/VQC (Student Performance) ---\u001b[39m\u001b[33m\"\u001b[39m)\n\u001b[32m     33\u001b[39m \u001b[38;5;28mprint\u001b[39m(classification_report(y_test, vqc_predictions_sp, target_names=[\u001b[33m'\u001b[39m\u001b[33mReprovado\u001b[39m\u001b[33m'\u001b[39m, \u001b[33m'\u001b[39m\u001b[33mAprovado\u001b[39m\u001b[33m'\u001b[39m]))\n",
      "\u001b[36mFile \u001b[39m\u001b[32mc:\\Users\\irhael.chagas\\OneDrive - Accenture\\Desktop\\tcc-qml\\tcc_env\\Lib\\site-packages\\qiskit_machine_learning\\algorithms\\classifiers\\neural_network_classifier.py:174\u001b[39m, in \u001b[36mNeuralNetworkClassifier.predict\u001b[39m\u001b[34m(self, X)\u001b[39m\n\u001b[32m    171\u001b[39m     predict = np.sign(raw_output)\n\u001b[32m    172\u001b[39m \u001b[38;5;28;01melse\u001b[39;00m:\n\u001b[32m    173\u001b[39m     \u001b[38;5;66;03m# Multi-class classification\u001b[39;00m\n\u001b[32m--> \u001b[39m\u001b[32m174\u001b[39m     forward = \u001b[38;5;28;43mself\u001b[39;49m\u001b[43m.\u001b[49m\u001b[43m_neural_network\u001b[49m\u001b[43m.\u001b[49m\u001b[43mforward\u001b[49m\u001b[43m(\u001b[49m\u001b[43mX\u001b[49m\u001b[43m,\u001b[49m\u001b[43m \u001b[49m\u001b[38;5;28;43mself\u001b[39;49m\u001b[43m.\u001b[49m\u001b[43m_fit_result\u001b[49m\u001b[43m.\u001b[49m\u001b[43mx\u001b[49m\u001b[43m)\u001b[49m\n\u001b[32m    175\u001b[39m     predict_ = np.argmax(forward, axis=\u001b[32m1\u001b[39m)\n\u001b[32m    177\u001b[39m     \u001b[38;5;28;01mif\u001b[39;00m \u001b[38;5;28mself\u001b[39m._one_hot:\n\u001b[32m    178\u001b[39m         \u001b[38;5;66;03m# Convert class indices to one-hot encoded format\u001b[39;00m\n",
      "\u001b[36mFile \u001b[39m\u001b[32mc:\\Users\\irhael.chagas\\OneDrive - Accenture\\Desktop\\tcc-qml\\tcc_env\\Lib\\site-packages\\qiskit_machine_learning\\neural_networks\\neural_network.py:227\u001b[39m, in \u001b[36mNeuralNetwork.forward\u001b[39m\u001b[34m(self, input_data, weights)\u001b[39m\n\u001b[32m    212\u001b[39m \u001b[38;5;28;01mdef\u001b[39;00m\u001b[38;5;250m \u001b[39m\u001b[34mforward\u001b[39m(\n\u001b[32m    213\u001b[39m     \u001b[38;5;28mself\u001b[39m,\n\u001b[32m    214\u001b[39m     input_data: \u001b[38;5;28mfloat\u001b[39m | \u001b[38;5;28mlist\u001b[39m[\u001b[38;5;28mfloat\u001b[39m] | np.ndarray | \u001b[38;5;28;01mNone\u001b[39;00m,\n\u001b[32m    215\u001b[39m     weights: \u001b[38;5;28mfloat\u001b[39m | \u001b[38;5;28mlist\u001b[39m[\u001b[38;5;28mfloat\u001b[39m] | np.ndarray | \u001b[38;5;28;01mNone\u001b[39;00m,\n\u001b[32m    216\u001b[39m ) -> np.ndarray | SparseArray:\n\u001b[32m    217\u001b[39m \u001b[38;5;250m    \u001b[39m\u001b[33;03m\"\"\"Forward pass of the network.\u001b[39;00m\n\u001b[32m    218\u001b[39m \n\u001b[32m    219\u001b[39m \u001b[33;03m    Args:\u001b[39;00m\n\u001b[32m   (...)\u001b[39m\u001b[32m    225\u001b[39m \u001b[33;03m        The result of the neural network of the shape (output_shape).\u001b[39;00m\n\u001b[32m    226\u001b[39m \u001b[33;03m    \"\"\"\u001b[39;00m\n\u001b[32m--> \u001b[39m\u001b[32m227\u001b[39m     input_, shape = \u001b[38;5;28;43mself\u001b[39;49m\u001b[43m.\u001b[49m\u001b[43m_validate_input\u001b[49m\u001b[43m(\u001b[49m\u001b[43minput_data\u001b[49m\u001b[43m)\u001b[49m\n\u001b[32m    228\u001b[39m     weights_ = \u001b[38;5;28mself\u001b[39m._validate_weights(weights)\n\u001b[32m    229\u001b[39m     output_data = \u001b[38;5;28mself\u001b[39m._forward(input_, weights_)\n",
      "\u001b[36mFile \u001b[39m\u001b[32mc:\\Users\\irhael.chagas\\OneDrive - Accenture\\Desktop\\tcc-qml\\tcc_env\\Lib\\site-packages\\qiskit_machine_learning\\neural_networks\\neural_network.py:135\u001b[39m, in \u001b[36mNeuralNetwork._validate_input\u001b[39m\u001b[34m(self, input_data)\u001b[39m\n\u001b[32m    132\u001b[39m     \u001b[38;5;28;01mreturn\u001b[39;00m input_, shape\n\u001b[32m    134\u001b[39m \u001b[38;5;28;01mif\u001b[39;00m shape[-\u001b[32m1\u001b[39m] != \u001b[38;5;28mself\u001b[39m._num_inputs:\n\u001b[32m--> \u001b[39m\u001b[32m135\u001b[39m     \u001b[38;5;28;01mraise\u001b[39;00m QiskitMachineLearningError(\n\u001b[32m    136\u001b[39m         \u001b[33mf\u001b[39m\u001b[33m\"\u001b[39m\u001b[33mInput data has incorrect shape, last dimension \u001b[39m\u001b[33m\"\u001b[39m\n\u001b[32m    137\u001b[39m         \u001b[33mf\u001b[39m\u001b[33m\"\u001b[39m\u001b[33mis not equal to the number of inputs: \u001b[39m\u001b[33m\"\u001b[39m\n\u001b[32m    138\u001b[39m         \u001b[33mf\u001b[39m\u001b[33m\"\u001b[39m\u001b[38;5;132;01m{\u001b[39;00m\u001b[38;5;28mself\u001b[39m._num_inputs\u001b[38;5;132;01m}\u001b[39;00m\u001b[33m, but got: \u001b[39m\u001b[38;5;132;01m{\u001b[39;00mshape[-\u001b[32m1\u001b[39m]\u001b[38;5;132;01m}\u001b[39;00m\u001b[33m.\u001b[39m\u001b[33m\"\u001b[39m\n\u001b[32m    139\u001b[39m     )\n\u001b[32m    141\u001b[39m \u001b[38;5;28;01mif\u001b[39;00m \u001b[38;5;28mlen\u001b[39m(shape) == \u001b[32m1\u001b[39m:\n\u001b[32m    142\u001b[39m     \u001b[38;5;66;03m# add an empty dimension for samples (batch dimension)\u001b[39;00m\n\u001b[32m    143\u001b[39m     input_ = input_.reshape((\u001b[32m1\u001b[39m, -\u001b[32m1\u001b[39m))\n",
      "\u001b[31mQiskitMachineLearningError\u001b[39m: 'Input data has incorrect shape, last dimension is not equal to the number of inputs: 5, but got: 39.'"
     ]
    }
   ],
   "source": [
    "\n",
    "\n",
    "num_features = X_train_resampled_pca.shape[1]  \n",
    "\n",
    "feature_map = ZZFeatureMap(feature_dimension=num_features, reps=1)\n",
    "ansatz = RealAmplitudes(num_qubits=num_features, reps=3)\n",
    "optimizer = COBYLA(maxiter=100)\n",
    "sampler = StatevectorSampler()\n",
    "\n",
    "\n",
    "num_parametros = ansatz.num_parameters\n",
    "rng = np.random.default_rng(42)\n",
    "initial_point = rng.random(num_parametros)\n",
    "\n",
    "\n",
    "vqc_sp_pca = VQC(\n",
    "    sampler=sampler,\n",
    "    feature_map=feature_map,\n",
    "    ansatz=ansatz,\n",
    "    optimizer=optimizer,\n",
    "    initial_point=initial_point\n",
    ")\n",
    "\n",
    "print(f\"\\nInstância do VQC criada para {num_features} features. Iniciando treinamento...\")\n",
    "\n",
    "\n",
    "start_time = time.time()\n",
    "vqc_sp_pca.fit(X_train_resampled_pca, y_train_resampled)\n",
    "end_time = time.time()\n",
    "print(f\"Modelo VQC treinado em {end_time - start_time:.2f} segundos.\")\n",
    "\n",
    "vqc_predictions_pca = vqc_sp_pca.predict(X_test_pca)\n",
    "\n",
    "print(\"\\n--- Relatório de Classificação para a QNN/VQC com PCA (Student Performance) ---\")\n",
    "print(classification_report(y_test, vqc_predictions_pca, target_names=['Reprovado', 'Aprovado']))"
   ]
  }
 ],
 "metadata": {
  "kernelspec": {
   "display_name": "tcc_env",
   "language": "python",
   "name": "python3"
  },
  "language_info": {
   "codemirror_mode": {
    "name": "ipython",
    "version": 3
   },
   "file_extension": ".py",
   "mimetype": "text/x-python",
   "name": "python",
   "nbconvert_exporter": "python",
   "pygments_lexer": "ipython3",
   "version": "3.13.3"
  }
 },
 "nbformat": 4,
 "nbformat_minor": 5
}
