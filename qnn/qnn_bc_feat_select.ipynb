{
 "cells": [
  {
   "cell_type": "markdown",
   "id": "7b79d52a",
   "metadata": {},
   "source": [
    "# Rede Neural Quântica (VQC) no Breast Cancer\n",
    "\n",
    "Este notebook treina e avalia uma Rede Neural Quântica (implementada como um VQC - Variational Quantum Classifier) no dataset Breast Cancer, utilizando Seleção de 5 features."
   ]
  },
  {
   "cell_type": "code",
   "execution_count": 20,
   "id": "b5e85349",
   "metadata": {},
   "outputs": [],
   "source": [
    "\n",
    "import time\n",
    "import numpy as np\n",
    "import pandas as pd\n",
    "from sklearn.datasets import load_breast_cancer\n",
    "from sklearn.model_selection import train_test_split\n",
    "from sklearn.preprocessing import StandardScaler\n",
    "from sklearn.metrics import classification_report\n",
    "\n",
    "\n",
    "from qiskit.circuit.library import ZZFeatureMap, RealAmplitudes\n",
    "\n",
    "from qiskit.primitives import StatevectorSampler\n",
    "from qiskit_machine_learning.algorithms.classifiers import VQC\n",
    "from qiskit_machine_learning.optimizers import COBYLA\n",
    "\n"
   ]
  },
  {
   "cell_type": "code",
   "execution_count": 21,
   "id": "ccc9d228",
   "metadata": {},
   "outputs": [
    {
     "name": "stdout",
     "output_type": "stream",
     "text": [
      "--- Dataset Breast Cancer Carregado ---\n",
      "Formato original: (569, 30)\n"
     ]
    }
   ],
   "source": [
    "\n",
    "X_full, y = load_breast_cancer(return_X_y=True)\n",
    "feature_names = load_breast_cancer().feature_names\n",
    "\n",
    "\n",
    "X_full_df = pd.DataFrame(X_full, columns=feature_names)\n",
    "\n",
    "print(\"--- Dataset Breast Cancer Carregado ---\")\n",
    "print(\"Formato original:\", X_full_df.shape)"
   ]
  },
  {
   "cell_type": "code",
   "execution_count": 22,
   "id": "f438a680",
   "metadata": {},
   "outputs": [
    {
     "name": "stdout",
     "output_type": "stream",
     "text": [
      "Dados divididos em treino e teste.\n",
      "Tamanho do treino: (426, 30)\n",
      "Tamanho do teste: (143, 30)\n"
     ]
    }
   ],
   "source": [
    "\n",
    "X_train_full, X_test_full, y_train, y_test = train_test_split(\n",
    "    X_full_df, y, test_size=0.25, random_state=42, stratify=y\n",
    ")\n",
    "\n",
    "print(\"Dados divididos em treino e teste.\")\n",
    "print(\"Tamanho do treino:\", X_train_full.shape)\n",
    "print(\"Tamanho do teste:\", X_test_full.shape)"
   ]
  },
  {
   "cell_type": "code",
   "execution_count": 23,
   "id": "68203ee0",
   "metadata": {},
   "outputs": [
    {
     "name": "stdout",
     "output_type": "stream",
     "text": [
      "Novo formato do X_train: (426, 5)\n"
     ]
    }
   ],
   "source": [
    "# Lista 5 features mais importantes\n",
    "top_features_bc = ['worst concave points', 'mean concave points', 'worst perimeter', 'worst radius', 'mean perimeter']\n",
    "\n",
    "\n",
    "X_train_selected = X_train_full[top_features_bc]\n",
    "X_test_selected = X_test_full[top_features_bc]\n",
    "\n",
    "\n",
    "print(\"Novo formato do X_train:\", X_train_selected.shape)"
   ]
  },
  {
   "cell_type": "code",
   "execution_count": 24,
   "id": "f1d64bc1",
   "metadata": {},
   "outputs": [],
   "source": [
    "\n",
    "scaler = StandardScaler()\n",
    "X_train_scaled = scaler.fit_transform(X_train_selected)\n",
    "X_test_scaled = scaler.transform(X_test_selected)\n",
    "\n"
   ]
  },
  {
   "cell_type": "code",
   "execution_count": 25,
   "id": "e03703ec",
   "metadata": {},
   "outputs": [
    {
     "name": "stderr",
     "output_type": "stream",
     "text": [
      "No gradient function provided, creating a gradient function. If your Sampler requires transpilation, please provide a pass manager.\n"
     ]
    },
    {
     "name": "stdout",
     "output_type": "stream",
     "text": [
      "instância VQC criada. \n",
      "iniciando treinamento\n",
      "Modelo VQC treinado em 392.61 segundos.\n",
      "\n",
      "--- Relatório de Classificação para a QNN/VQC (Breast Cancer) ---\n",
      "              precision    recall  f1-score   support\n",
      "\n",
      "   malignant       0.37      0.55      0.44        53\n",
      "      benign       0.63      0.46      0.53        90\n",
      "\n",
      "    accuracy                           0.49       143\n",
      "   macro avg       0.50      0.50      0.49       143\n",
      "weighted avg       0.53      0.49      0.50       143\n",
      "\n"
     ]
    }
   ],
   "source": [
    "\n",
    "\n",
    "\n",
    "num_features = X_train_scaled.shape[1] \n",
    "\n",
    "\n",
    "feature_map = ZZFeatureMap(feature_dimension=num_features, reps=1)\n",
    "ansatz = RealAmplitudes(num_qubits=num_features, reps=3)\n",
    "optimizer = COBYLA(maxiter=100)\n",
    "sampler = StatevectorSampler()\n",
    "\n",
    "\n",
    "# O VQC não tem um parâmetro 'random_state' como os modelos do Scikit-learn.\n",
    "# A aleatoriedade vem do ponto de partida do otimizador.\n",
    "# Para garantir que os resultados sejam sempre os mesmos a cada execução,\n",
    "# críasse um ponto inicial fixo usando um gerador de números aleatórios com uma semente (seed) de 42.\n",
    "# Isso torna o experimento 100% reprodutível.\n",
    "\n",
    "num_parametros = ansatz.num_parameters\n",
    "rng = np.random.default_rng(42)\n",
    "initial_point = rng.random(num_parametros)\n",
    "\n",
    "\n",
    "vqc_bc = VQC(\n",
    "    sampler=sampler,\n",
    "    feature_map=feature_map,\n",
    "    ansatz=ansatz,\n",
    "    optimizer=optimizer,\n",
    "    initial_point=initial_point \n",
    ")\n",
    "\n",
    "print(\"instância VQC criada. \\niniciando treinamento\")\n",
    "\n",
    "\n",
    "start_time = time.time()\n",
    "vqc_bc.fit(X_train_scaled, y_train)\n",
    "end_time = time.time()\n",
    "print(f\"Modelo VQC treinado em {end_time - start_time:.2f} segundos.\")\n",
    "\n",
    "vqc_predictions_bc = vqc_bc.predict(X_test_scaled)\n",
    "\n",
    "print(\"\\n--- Relatório de Classificação para a QNN/VQC (Breast Cancer) ---\")\n",
    "print(classification_report(y_test, vqc_predictions_bc, target_names=load_breast_cancer().target_names))"
   ]
  }
 ],
 "metadata": {
  "kernelspec": {
   "display_name": "tcc_env",
   "language": "python",
   "name": "python3"
  },
  "language_info": {
   "codemirror_mode": {
    "name": "ipython",
    "version": 3
   },
   "file_extension": ".py",
   "mimetype": "text/x-python",
   "name": "python",
   "nbconvert_exporter": "python",
   "pygments_lexer": "ipython3",
   "version": "3.13.3"
  }
 },
 "nbformat": 4,
 "nbformat_minor": 5
}
