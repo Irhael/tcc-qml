{
 "cells": [
  {
   "cell_type": "code",
   "execution_count": 1,
   "id": "16f6ab5b",
   "metadata": {},
   "outputs": [],
   "source": [
    "\n",
    "import time\n",
    "import numpy as np\n",
    "import pandas as pd\n",
    "from sklearn.model_selection import train_test_split\n",
    "from sklearn.preprocessing import StandardScaler\n",
    "from sklearn.metrics import classification_report\n",
    "\n",
    "from qiskit.circuit.library import ZZFeatureMap, RealAmplitudes\n",
    "from qiskit.primitives import StatevectorSampler\n",
    "from qiskit_machine_learning.algorithms.classifiers import VQC\n",
    "from qiskit_machine_learning.optimizers import COBYLA\n",
    "\n",
    "\n",
    "from imblearn.over_sampling import SMOTE"
   ]
  },
  {
   "cell_type": "code",
   "execution_count": null,
   "id": "81d210a4",
   "metadata": {},
   "outputs": [
    {
     "name": "stdout",
     "output_type": "stream",
     "text": [
      "Formato features (X_final): (649, 39)\n",
      "Distribuição das classes (Aprovado/Reprovado):\n",
      "1    549\n",
      "0    100\n",
      "Name: count, dtype: int64\n"
     ]
    }
   ],
   "source": [
    "\n",
    "\n",
    "\n",
    "caminho_do_arquivo = '../data/student-por.csv'\n",
    "df_completo = pd.read_csv(caminho_do_arquivo, sep=',')\n",
    "\n",
    "y_grades = df_completo[['G1', 'G2', 'G3']]\n",
    "X_features = df_completo.drop(columns=['G1', 'G2', 'G3'])\n",
    "\n",
    "\n",
    "y_final = np.where(y_grades['G3'] >= 10, 1, 0)\n",
    "\n",
    "\n",
    "X_final = pd.get_dummies(X_features, drop_first=True)\n",
    "\n",
    "\n",
    "print(\"Formato features (X_final):\", X_final.shape)\n",
    "print(\"Distribuição das classes (Aprovado/Reprovado):\")\n",
    "print(pd.Series(y_final).value_counts())"
   ]
  },
  {
   "cell_type": "code",
   "execution_count": 3,
   "id": "de4960c2",
   "metadata": {},
   "outputs": [
    {
     "name": "stdout",
     "output_type": "stream",
     "text": [
      "feature selection aplicada\n",
      "Novo formato do X_train: (486, 5)\n"
     ]
    }
   ],
   "source": [
    "\n",
    "X_train_full, X_test_full, y_train, y_test = train_test_split(\n",
    "    X_final, y_final, test_size=0.25, random_state=42, stratify=y_final\n",
    ")\n",
    "\n",
    "\n",
    "top_features_sp = ['failures', 'higher_yes', 'school_MS', 'Medu', 'studytime']\n",
    "\n",
    "\n",
    "X_train_selected = X_train_full[top_features_sp]\n",
    "X_test_selected = X_test_full[top_features_sp]\n",
    "\n",
    "print(\"feature selection aplicada\")\n",
    "print(\"Novo formato do X_train:\", X_train_selected.shape)"
   ]
  },
  {
   "cell_type": "code",
   "execution_count": 4,
   "id": "46fad37d",
   "metadata": {},
   "outputs": [
    {
     "name": "stdout",
     "output_type": "stream",
     "text": [
      "Dados selecionados e normalizados.\n",
      "\n",
      "Normalização e smote.\n",
      "1    411\n",
      "0    411\n",
      "Name: count, dtype: int64\n"
     ]
    }
   ],
   "source": [
    "\n",
    "scaler = StandardScaler()\n",
    "X_train_scaled = scaler.fit_transform(X_train_selected)\n",
    "X_test_scaled = scaler.transform(X_test_selected)\n",
    "print(\"Dados selecionados e normalizados.\")\n",
    "\n",
    "\n",
    "smote = SMOTE(random_state=42)\n",
    "X_train_resampled, y_train_resampled = smote.fit_resample(X_train_scaled, y_train)\n",
    "\n",
    "print(\"\\nNormalização e smote.\")\n",
    "print(pd.Series(y_train_resampled).value_counts())"
   ]
  },
  {
   "cell_type": "code",
   "execution_count": null,
   "id": "1b4eb9c0",
   "metadata": {},
   "outputs": [
    {
     "name": "stderr",
     "output_type": "stream",
     "text": [
      "No gradient function provided, creating a gradient function. If your Sampler requires transpilation, please provide a pass manager.\n"
     ]
    },
    {
     "name": "stdout",
     "output_type": "stream",
     "text": [
      "\n",
      "Instância do VQC criada. Iniciando treinamento...\n",
      "Modelo VQC treinado em 522.46 segundos.\n",
      "\n",
      "--- Relatório de Classificação para a QNN/VQC (Student Performance) ---\n",
      "              precision    recall  f1-score   support\n",
      "\n",
      "   Reprovado       0.23      0.52      0.32        25\n",
      "    Aprovado       0.89      0.68      0.77       138\n",
      "\n",
      "    accuracy                           0.66       163\n",
      "   macro avg       0.56      0.60      0.54       163\n",
      "weighted avg       0.79      0.66      0.70       163\n",
      "\n"
     ]
    }
   ],
   "source": [
    "\n",
    "\n",
    "\n",
    "num_features = X_train_resampled.shape[1]  \n",
    "\n",
    "feature_map = ZZFeatureMap(feature_dimension=num_features, reps=1)\n",
    "ansatz = RealAmplitudes(num_qubits=num_features, reps=3)\n",
    "optimizer = COBYLA(maxiter=100)\n",
    "sampler = StatevectorSampler()\n",
    "\n",
    "\n",
    "num_parametros = ansatz.num_parameters\n",
    "rng = np.random.default_rng(42)\n",
    "initial_point = rng.random(num_parametros)\n",
    "\n",
    "\n",
    "vqc_sp = VQC(\n",
    "    sampler=sampler,\n",
    "    feature_map=feature_map,\n",
    "    ansatz=ansatz,\n",
    "    optimizer=optimizer,\n",
    "    initial_point=initial_point \n",
    ")\n",
    "\n",
    "print(\"\\nInstância do VQC criada.\")\n",
    "\n",
    "\n",
    "start_time = time.time()\n",
    "vqc_sp.fit(X_train_resampled, y_train_resampled)\n",
    "end_time = time.time()\n",
    "print(f\"Modelo VQC treinado em {end_time - start_time:.2f} segundos.\")\n",
    "\n",
    "vqc_predictions_sp = vqc_sp.predict(X_test_scaled)\n",
    "\n",
    "print(\"\\n Relatório de Classificação para a QNN/VQC (Student Performance(Port))\")\n",
    "print(classification_report(y_test, vqc_predictions_sp, target_names=['Reprovado', 'Aprovado']))"
   ]
  }
 ],
 "metadata": {
  "kernelspec": {
   "display_name": "tcc_env",
   "language": "python",
   "name": "python3"
  },
  "language_info": {
   "codemirror_mode": {
    "name": "ipython",
    "version": 3
   },
   "file_extension": ".py",
   "mimetype": "text/x-python",
   "name": "python",
   "nbconvert_exporter": "python",
   "pygments_lexer": "ipython3",
   "version": "3.13.3"
  }
 },
 "nbformat": 4,
 "nbformat_minor": 5
}
