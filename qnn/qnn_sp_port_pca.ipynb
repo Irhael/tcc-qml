{
 "cells": [
  {
   "cell_type": "markdown",
   "id": "515aef48",
   "metadata": {},
   "source": [
    "# ede Neural Quântica (VQC) com PCA no Student Performance\n",
    "\n",
    "Este notebook treina e avalia uma Rede Neural Quântica (VQC) no dataset Student Performance, utilizando de Redução de Dimensionalidade com PCA."
   ]
  },
  {
   "cell_type": "code",
   "execution_count": 1,
   "id": "16f6ab5b",
   "metadata": {},
   "outputs": [],
   "source": [
    "\n",
    "import time\n",
    "import numpy as np\n",
    "import pandas as pd\n",
    "from sklearn.model_selection import train_test_split\n",
    "from sklearn.preprocessing import StandardScaler\n",
    "from sklearn.metrics import classification_report\n",
    "\n",
    "from qiskit.circuit.library import ZZFeatureMap, RealAmplitudes\n",
    "from qiskit.primitives import StatevectorSampler\n",
    "from qiskit_machine_learning.algorithms.classifiers import VQC\n",
    "from qiskit_machine_learning.optimizers import COBYLA\n",
    "from sklearn.decomposition import PCA\n",
    "import matplotlib.pyplot as plt\n",
    "\n",
    "\n",
    "from imblearn.over_sampling import SMOTE"
   ]
  },
  {
   "cell_type": "code",
   "execution_count": null,
   "id": "81d210a4",
   "metadata": {},
   "outputs": [
    {
     "name": "stdout",
     "output_type": "stream",
     "text": [
      "--- Dataset Student Performance preparado ---\n",
      "Formato das features (X_final): (649, 39)\n"
     ]
    }
   ],
   "source": [
    "\n",
    "path = '../data/student-por.csv'\n",
    "df_completo = pd.read_csv(path, sep=',')\n",
    "\n",
    "\n",
    "y_grades = df_completo[['G1', 'G2', 'G3']]\n",
    "X_features = df_completo.drop(columns=['G1', 'G2', 'G3'])\n",
    "\n",
    "\n",
    "y_final = np.where(y_grades['G3'] >= 10, 1, 0)\n",
    "\n",
    "\n",
    "X_final = pd.get_dummies(X_features, drop_first=True)\n",
    "\n",
    "print(\"--- Dataset Student Performance preparado ---\")\n",
    "print(\"Formato das features (X_final):\", X_final.shape)"
   ]
  },
  {
   "cell_type": "code",
   "execution_count": 3,
   "id": "de4960c2",
   "metadata": {},
   "outputs": [
    {
     "name": "stdout",
     "output_type": "stream",
     "text": [
      "Dados originais divididos e normalizados.\n",
      "PCA aplicado. Dimensões reduzidas para 5 componentes.\n"
     ]
    }
   ],
   "source": [
    "\n",
    "X_train_full, X_test_full, y_train, y_test = train_test_split(\n",
    "    X_final, y_final, test_size=0.25, random_state=42, stratify=y_final\n",
    ")\n",
    "\n",
    "\n",
    "scaler = StandardScaler()\n",
    "X_train_scaled = scaler.fit_transform(X_train_full)\n",
    "X_test_scaled = scaler.transform(X_test_full)\n",
    "print(\"Dados originais divididos e normalizados.\")\n",
    "\n",
    "\n",
    "N_COMPONENTES = 5 \n",
    "pca = PCA(n_components=N_COMPONENTES)\n",
    "X_train_pca = pca.fit_transform(X_train_scaled)\n",
    "X_test_pca = pca.transform(X_test_scaled)\n",
    "\n",
    "print(f\"PCA aplicado. Dimensões reduzidas para {N_COMPONENTES} componentes.\")"
   ]
  },
  {
   "cell_type": "code",
   "execution_count": 4,
   "id": "1a2138e9",
   "metadata": {},
   "outputs": [
    {
     "name": "stdout",
     "output_type": "stream",
     "text": [
      "\n",
      "--- Balanceamento do Conjunto de Treino DEPOIS do SMOTE ---\n",
      "1    411\n",
      "0    411\n",
      "Name: count, dtype: int64\n"
     ]
    }
   ],
   "source": [
    "\n",
    "smote = SMOTE(random_state=42)\n",
    "X_train_resampled_pca, y_train_resampled = smote.fit_resample(X_train_pca, y_train)\n",
    "\n",
    "print(\"\\n--- Balanceamento do Conjunto de Treino DEPOIS do SMOTE ---\")\n",
    "print(pd.Series(y_train_resampled).value_counts())"
   ]
  },
  {
   "cell_type": "code",
   "execution_count": null,
   "id": "1b4eb9c0",
   "metadata": {},
   "outputs": [
    {
     "name": "stderr",
     "output_type": "stream",
     "text": [
      "No gradient function provided, creating a gradient function. If your Sampler requires transpilation, please provide a pass manager.\n"
     ]
    },
    {
     "name": "stdout",
     "output_type": "stream",
     "text": [
      "\n",
      "Instância do VQC criada para 5 features. Iniciando treinamento...\n",
      "Modelo VQC treinado em 933.07 segundos.\n",
      "\n",
      "--- Relatório de Classificação para a QNN/VQC com PCA (Student Performance) ---\n",
      "              precision    recall  f1-score   support\n",
      "\n",
      "   Reprovado       0.15      0.60      0.24        25\n",
      "    Aprovado       0.85      0.40      0.54       138\n",
      "\n",
      "    accuracy                           0.43       163\n",
      "   macro avg       0.50      0.50      0.39       163\n",
      "weighted avg       0.74      0.43      0.50       163\n",
      "\n"
     ]
    }
   ],
   "source": [
    "\n",
    "\n",
    "num_features = X_train_resampled_pca.shape[1]  \n",
    "\n",
    "feature_map = ZZFeatureMap(feature_dimension=num_features, reps=1)\n",
    "ansatz = RealAmplitudes(num_qubits=num_features, reps=3)\n",
    "optimizer = COBYLA(maxiter=100)\n",
    "sampler = StatevectorSampler()\n",
    "\n",
    "\n",
    "num_parametros = ansatz.num_parameters\n",
    "rng = np.random.default_rng(42)\n",
    "initial_point = rng.random(num_parametros)\n",
    "\n",
    "\n",
    "vqc_sp_pca = VQC(\n",
    "    sampler=sampler,\n",
    "    feature_map=feature_map,\n",
    "    ansatz=ansatz,\n",
    "    optimizer=optimizer,\n",
    "    initial_point=initial_point\n",
    ")\n",
    "\n",
    "print(f\"\\nInstância do VQC criada para {num_features} features\")\n",
    "\n",
    "\n",
    "start_time = time.time()\n",
    "vqc_sp_pca.fit(X_train_resampled_pca, y_train_resampled)\n",
    "end_time = time.time()\n",
    "print(f\"Modelo VQC treinado em {end_time - start_time:.2f} segundos.\")\n",
    "\n",
    "vqc_predictions_pca = vqc_sp_pca.predict(X_test_pca)\n",
    "\n",
    "print(\"\\nRelatório de Classificação para a QNN/VQC com PCA (Student Performance(Port))\")\n",
    "print(classification_report(y_test, vqc_predictions_pca, target_names=['Reprovado', 'Aprovado']))"
   ]
  }
 ],
 "metadata": {
  "kernelspec": {
   "display_name": "tcc_env",
   "language": "python",
   "name": "python3"
  },
  "language_info": {
   "codemirror_mode": {
    "name": "ipython",
    "version": 3
   },
   "file_extension": ".py",
   "mimetype": "text/x-python",
   "name": "python",
   "nbconvert_exporter": "python",
   "pygments_lexer": "ipython3",
   "version": "3.13.3"
  }
 },
 "nbformat": 4,
 "nbformat_minor": 5
}
