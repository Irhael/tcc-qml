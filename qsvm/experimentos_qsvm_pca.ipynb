{
 "cells": [
  {
   "cell_type": "markdown",
   "id": "fe702865",
   "metadata": {},
   "source": [
    "# Experimentos: Baseline com QSVM\n",
    "\n",
    "Este notebook estabelece baselines de performance com QSVM em datasets\n",
    "\n",
    "Usando PCA.\n"
   ]
  },
  {
   "cell_type": "markdown",
   "id": "3c9926d7",
   "metadata": {},
   "source": [
    "# Dataset = Breast Cancer Wisconsin (Diagnostic)"
   ]
  },
  {
   "cell_type": "code",
   "execution_count": 1,
   "id": "bc308b4e",
   "metadata": {},
   "outputs": [],
   "source": [
    "from sklearn.datasets import load_breast_cancer \n",
    "from sklearn.model_selection import train_test_split\n",
    "from sklearn.preprocessing import StandardScaler\n",
    "from sklearn.metrics import classification_report\n",
    "import numpy as np\n",
    "import pandas as pd\n",
    "\n",
    "#Ferramentas quânticas \n",
    "from qiskit.circuit.library import ZZFeatureMap\n",
    "from qiskit.primitives import StatevectorSampler    \n",
    "from qiskit_machine_learning.kernels import FidelityQuantumKernel  \n",
    "from qiskit_machine_learning.algorithms import QSVC\n",
    "import time\n",
    "\n",
    "from sklearn.decomposition import PCA\n"
   ]
  },
  {
   "cell_type": "markdown",
   "id": "786e849b",
   "metadata": {},
   "source": [
    "## Loading data and initial analysis"
   ]
  },
  {
   "cell_type": "code",
   "execution_count": 2,
   "id": "31cd33b8",
   "metadata": {},
   "outputs": [
    {
     "name": "stdout",
     "output_type": "stream",
     "text": [
      "Dataset carregado com 569 amostras e 30 features.\n"
     ]
    }
   ],
   "source": [
    "# 2. loading data\n",
    "X, y = load_breast_cancer(return_X_y=True)\n",
    "feature_names = load_breast_cancer().feature_names\n",
    "df_X = pd.DataFrame(X, columns=feature_names)\n",
    "\n",
    "print(f\"Dataset carregado com {X.shape[0]} amostras e {X.shape[1]} features.\")"
   ]
  },
  {
   "cell_type": "markdown",
   "id": "1d819558",
   "metadata": {},
   "source": [
    "## Split data into training and testing sets"
   ]
  },
  {
   "cell_type": "code",
   "execution_count": 3,
   "id": "bbc91041",
   "metadata": {},
   "outputs": [
    {
     "name": "stdout",
     "output_type": "stream",
     "text": [
      "Dados divididos em treino e teste.\n"
     ]
    }
   ],
   "source": [
    "X_train_full, X_test_full, y_train, y_test = train_test_split(\n",
    "    df_X, y, test_size=0.25, random_state=42, stratify=y\n",
    ")\n",
    "print(\"Dados divididos em treino e teste.\")"
   ]
  },
  {
   "cell_type": "markdown",
   "id": "d9f58881",
   "metadata": {},
   "source": [
    "## Normalize data"
   ]
  },
  {
   "cell_type": "code",
   "execution_count": null,
   "id": "14400ab0",
   "metadata": {},
   "outputs": [
    {
     "ename": "NameError",
     "evalue": "name 'X_train' is not defined",
     "output_type": "error",
     "traceback": [
      "\u001b[31m---------------------------------------------------------------------------\u001b[39m",
      "\u001b[31mNameError\u001b[39m                                 Traceback (most recent call last)",
      "\u001b[36mCell\u001b[39m\u001b[36m \u001b[39m\u001b[32mIn[4]\u001b[39m\u001b[32m, line 3\u001b[39m\n\u001b[32m      1\u001b[39m \u001b[38;5;66;03m# normalizing data\u001b[39;00m\n\u001b[32m      2\u001b[39m scaler = StandardScaler()\n\u001b[32m----> \u001b[39m\u001b[32m3\u001b[39m X_train_scaled = scaler.fit_transform(\u001b[43mX_train\u001b[49m)\n\u001b[32m      4\u001b[39m X_test_scaled = scaler.transform(X_test)\n\u001b[32m      5\u001b[39m \u001b[38;5;28mprint\u001b[39m(\u001b[33m\"\u001b[39m\u001b[33mDados normalizados.\u001b[39m\u001b[33m\"\u001b[39m)\n",
      "\u001b[31mNameError\u001b[39m: name 'X_train' is not defined"
     ]
    }
   ],
   "source": [
    "# normalizing data\n",
    "scaler = StandardScaler()\n",
    "X_train_scaled = scaler.fit_transform(X_train_full)\n",
    "X_test_scaled = scaler.transform(X_test_full)\n",
    "print(\"Dados normalizados.\")\n",
    "\n",
    "\n",
    "\n"
   ]
  },
  {
   "cell_type": "markdown",
   "id": "6cea509d",
   "metadata": {},
   "source": [
    "## aplying PCA"
   ]
  },
  {
   "cell_type": "code",
   "execution_count": null,
   "id": "bee5bc90",
   "metadata": {},
   "outputs": [],
   "source": [
    "N_COMPONENTES = 4\n",
    "pca = PCA(n_components=N_COMPONENTES)\n",
    "\n",
    "X_train_pca = pca.fit_transform(X_train_scaled)\n",
    "\n",
    "X_test_pca = pca.transform(X_test_scaled)\n",
    "\n",
    "print(f\"PCA aplicado. Dimensões reduzidas para {N_COMPONENTES} componentes.\")\n",
    "print(\"Novo formato de X_train_pca:\", X_train_pca.shape)\n"
   ]
  },
  {
   "cell_type": "markdown",
   "id": "3b6a3e2e",
   "metadata": {},
   "source": [
    "# Training QSVM model with PCA"
   ]
  },
  {
   "cell_type": "code",
   "execution_count": null,
   "id": "f78d3ee1",
   "metadata": {},
   "outputs": [],
   "source": [
    "# O número de features agora é o número de componentes do PCA\n",
    "num_features_pca = X_train_pca.shape[1]\n",
    "\n",
    "feature_map_pca = ZZFeatureMap(feature_dimension=num_features_pca, reps=1)\n",
    "fidelity_kernel_pca = FidelityQuantumKernel(feature_map=feature_map_pca)\n",
    "qsvc_bc_pca = QSVC(quantum_kernel=fidelity_kernel_pca, random_state=42)\n",
    "\n",
    "print(\"Modelo QSVC + PCA criado.\")\n",
    "\n",
    "start_time = time.time()\n",
    "qsvc_bc_pca.fit(X_train_pca, y_train)\n",
    "end_time = time.time()\n",
    "print(f\"Modelo treinado em {end_time - start_time:.2f} segundos.\")\n",
    "\n",
    "qsvc_bc_predictions_pca = qsvc_bc_pca.predict(X_test_pca)\n",
    "\n",
    "print(\"\\n--- Relatório de Classificação para o QSVM com PCA (Breast Cancer) ---\")\n",
    "print(classification_report(y_test, qsvc_bc_predictions_pca, target_names=load_breast_cancer().target_names))\n"
   ]
  }
 ],
 "metadata": {
  "kernelspec": {
   "display_name": "tcc_env",
   "language": "python",
   "name": "python3"
  },
  "language_info": {
   "codemirror_mode": {
    "name": "ipython",
    "version": 3
   },
   "file_extension": ".py",
   "mimetype": "text/x-python",
   "name": "python",
   "nbconvert_exporter": "python",
   "pygments_lexer": "ipython3",
   "version": "3.13.3"
  }
 },
 "nbformat": 4,
 "nbformat_minor": 5
}
