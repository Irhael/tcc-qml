{
 "cells": [
  {
   "cell_type": "markdown",
   "id": "29af5c91",
   "metadata": {},
   "source": [
    "# Experimentos: Baseline com QSVM\n",
    "\n",
    "Este notebook estabelece baselines de performance com QSVM em datasets\n",
    "\n",
    "Usando Seleção de features.\n"
   ]
  },
  {
   "cell_type": "markdown",
   "id": "1e355ce5",
   "metadata": {},
   "source": [
    "# Dataset = Breast Cancer Wisconsin (Diagnostic)"
   ]
  },
  {
   "cell_type": "code",
   "execution_count": null,
   "id": "29981d84",
   "metadata": {},
   "outputs": [],
   "source": [
    "from sklearn.datasets import load_breast_cancer \n",
    "from sklearn.model_selection import train_test_split\n",
    "from sklearn.preprocessing import StandardScaler\n",
    "from sklearn.metrics import classification_report\n",
    "import numpy as np\n",
    "import pandas as pd\n",
    "\n",
    "\n",
    "from qiskit.circuit.library import ZZFeatureMap\n",
    "from qiskit.primitives import StatevectorSampler    \n",
    "from qiskit_machine_learning.kernels import FidelityQuantumKernel  \n",
    "from qiskit_machine_learning.algorithms import QSVC\n",
    "import time"
   ]
  },
  {
   "cell_type": "markdown",
   "id": "59141e2f",
   "metadata": {},
   "source": [
    "## Loading data and initial analysis"
   ]
  },
  {
   "cell_type": "code",
   "execution_count": 17,
   "id": "d80e48ec",
   "metadata": {},
   "outputs": [
    {
     "name": "stdout",
     "output_type": "stream",
     "text": [
      "Dataset carregado com 569 amostras e 30 features.\n"
     ]
    }
   ],
   "source": [
    "# 2. loading data\n",
    "X, y = load_breast_cancer(return_X_y=True)\n",
    "feature_names = load_breast_cancer().feature_names\n",
    "df_X = pd.DataFrame(X, columns=feature_names)\n",
    "\n",
    "print(f\"Dataset carregado com {X.shape[0]} amostras e {X.shape[1]} features.\")"
   ]
  },
  {
   "cell_type": "markdown",
   "id": "f993b135",
   "metadata": {},
   "source": [
    "## Split data into training and testing sets"
   ]
  },
  {
   "cell_type": "code",
   "execution_count": 18,
   "id": "5bbd3fba",
   "metadata": {},
   "outputs": [
    {
     "name": "stdout",
     "output_type": "stream",
     "text": [
      "Dados divididos em treino e teste.\n"
     ]
    }
   ],
   "source": [
    "X_train_full, X_test_full, y_train, y_test = train_test_split(\n",
    "    df_X, y, test_size=0.25, random_state=42, stratify=y\n",
    ")\n",
    "print(\"Dados divididos em treino e teste.\")"
   ]
  },
  {
   "cell_type": "markdown",
   "id": "6e97a432",
   "metadata": {},
   "source": [
    "## Applying feature selection by correlation (30 -> 5 features)"
   ]
  },
  {
   "cell_type": "code",
   "execution_count": 19,
   "id": "b026f938",
   "metadata": {},
   "outputs": [
    {
     "name": "stdout",
     "output_type": "stream",
     "text": [
      "Top 5 features selecionadas: ['worst concave points', 'mean concave points', 'worst perimeter', 'worst radius', 'mean perimeter']\n"
     ]
    }
   ],
   "source": [
    "# Seleção de features com base em correlação (aplicada somente em treino)\n",
    "train_df = X_train_full.copy()\n",
    "train_df[\"diagnosis\"] = y_train\n",
    "\n",
    "# Correlação das features com a variável alvo\n",
    "correlation = train_df.corr(numeric_only=True)[\"diagnosis\"].abs().sort_values(ascending=False)\n",
    "top_features = correlation[1:6].index.tolist()  \n",
    "\n",
    "print(\"Top 5 features selecionadas:\", top_features)\n",
    "\n",
    "# Aplicando seleção nas bases de treino e teste\n",
    "X_train = X_train_full[top_features]\n",
    "X_test = X_test_full[top_features]\n",
    "\n"
   ]
  },
  {
   "cell_type": "markdown",
   "id": "a7d66f6e",
   "metadata": {},
   "source": [
    "## Normalize data"
   ]
  },
  {
   "cell_type": "code",
   "execution_count": 20,
   "id": "a4104d3a",
   "metadata": {},
   "outputs": [
    {
     "name": "stdout",
     "output_type": "stream",
     "text": [
      "Dados normalizados.\n"
     ]
    }
   ],
   "source": [
    "# normalizing data\n",
    "scaler = StandardScaler()\n",
    "X_train_scaled = scaler.fit_transform(X_train)\n",
    "X_test_scaled = scaler.transform(X_test)\n",
    "print(\"Dados normalizados.\")\n",
    "\n",
    "\n",
    "\n"
   ]
  },
  {
   "cell_type": "markdown",
   "id": "331668d2",
   "metadata": {},
   "source": [
    "# Training QSVM model"
   ]
  },
  {
   "cell_type": "code",
   "execution_count": 21,
   "id": "0bb2e2c9",
   "metadata": {},
   "outputs": [
    {
     "name": "stdout",
     "output_type": "stream",
     "text": [
      "Treinando QSVM...\n",
      "Modelo treinado com sucesso em 587.86 segundos.\n",
      "\n",
      "--- Relatório de Classificação Final (QSVM com seleção de features) ---\n",
      "              precision    recall  f1-score   support\n",
      "\n",
      "   malignant       0.80      0.77      0.79        53\n",
      "      benign       0.87      0.89      0.88        90\n",
      "\n",
      "    accuracy                           0.85       143\n",
      "   macro avg       0.84      0.83      0.83       143\n",
      "weighted avg       0.85      0.85      0.85       143\n",
      "\n"
     ]
    }
   ],
   "source": [
    "# criando qsvm\n",
    "num_features = X_train_scaled.shape[1]\n",
    "feature_map = ZZFeatureMap(feature_dimension=num_features, reps=1)\n",
    "fidelity_kernel = FidelityQuantumKernel(feature_map=feature_map)\n",
    "qsvc = QSVC(quantum_kernel=fidelity_kernel, random_state=42)\n",
    "\n",
    "print(\"Treinando QSVM...\")\n",
    "\n",
    "start_time = time.time()\n",
    "qsvc.fit(X_train_scaled, y_train)\n",
    "end_time = time.time()\n",
    "print(f\"Modelo treinado com sucesso em {end_time - start_time:.2f} segundos.\")\n",
    "\n",
    "#  Avaliar\n",
    "predictions = qsvc.predict(X_test_scaled)\n",
    "print(\"\\n--- Relatório de Classificação Final (QSVM com seleção de features) ---\")\n",
    "print(classification_report(y_test, predictions, target_names=load_breast_cancer().target_names))"
   ]
  }
 ],
 "metadata": {
  "kernelspec": {
   "display_name": "tcc_env",
   "language": "python",
   "name": "python3"
  },
  "language_info": {
   "codemirror_mode": {
    "name": "ipython",
    "version": 3
   },
   "file_extension": ".py",
   "mimetype": "text/x-python",
   "name": "python",
   "nbconvert_exporter": "python",
   "pygments_lexer": "ipython3",
   "version": "3.13.3"
  }
 },
 "nbformat": 4,
 "nbformat_minor": 5
}
