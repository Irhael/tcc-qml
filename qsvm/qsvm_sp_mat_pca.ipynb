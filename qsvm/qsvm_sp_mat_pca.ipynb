{
 "cells": [
  {
   "cell_type": "markdown",
   "id": "29af5c91",
   "metadata": {},
   "source": [
    "# Experimentos: Baseline com QSVM+ PCA\n",
    "\n",
    "Este notebook estabelece baselines de performance com QSVM no dataset Student Performance\n",
    "\n",
    "Usando PCA\n"
   ]
  },
  {
   "cell_type": "code",
   "execution_count": 2,
   "id": "2e3aa0b6",
   "metadata": {},
   "outputs": [
    {
     "name": "stdout",
     "output_type": "stream",
     "text": [
      "Dataset carregado!\n"
     ]
    }
   ],
   "source": [
    "import pandas as pd\n",
    "import numpy as np\n",
    "import time\n",
    "\n",
    "from sklearn.model_selection import train_test_split\n",
    "from sklearn.preprocessing import StandardScaler\n",
    "from sklearn.metrics import classification_report\n",
    "\n",
    "\n",
    "from qiskit.circuit.library import ZZFeatureMap\n",
    "from qiskit.primitives import StatevectorSampler\n",
    "from qiskit_machine_learning.kernels import FidelityQuantumKernel\n",
    "from qiskit_machine_learning.algorithms import QSVC\n",
    "\n",
    "\n",
    "from imblearn.over_sampling import SMOTE\n",
    "from sklearn.decomposition import PCA\n",
    "import matplotlib.pyplot as plt\n",
    "\n",
    "# Carregando o dataset localmente\n",
    "path = '../data/student-mat.csv'\n",
    "df_completo = pd.read_csv(path, sep=';')\n",
    "\n",
    "# Separando features e alvos originais\n",
    "y = df_completo[['G1', 'G2', 'G3']]\n",
    "X = df_completo.drop(columns=['G1', 'G2', 'G3'])\n",
    "\n",
    "print(\"Dataset carregado!\")"
   ]
  },
  {
   "cell_type": "code",
   "execution_count": 3,
   "id": "a6d0d899",
   "metadata": {},
   "outputs": [
    {
     "data": {
      "text/html": [
       "<div>\n",
       "<style scoped>\n",
       "    .dataframe tbody tr th:only-of-type {\n",
       "        vertical-align: middle;\n",
       "    }\n",
       "\n",
       "    .dataframe tbody tr th {\n",
       "        vertical-align: top;\n",
       "    }\n",
       "\n",
       "    .dataframe thead th {\n",
       "        text-align: right;\n",
       "    }\n",
       "</style>\n",
       "<table border=\"1\" class=\"dataframe\">\n",
       "  <thead>\n",
       "    <tr style=\"text-align: right;\">\n",
       "      <th></th>\n",
       "      <th>school</th>\n",
       "      <th>sex</th>\n",
       "      <th>age</th>\n",
       "      <th>address</th>\n",
       "      <th>famsize</th>\n",
       "      <th>Pstatus</th>\n",
       "      <th>Medu</th>\n",
       "      <th>Fedu</th>\n",
       "      <th>Mjob</th>\n",
       "      <th>Fjob</th>\n",
       "      <th>...</th>\n",
       "      <th>higher</th>\n",
       "      <th>internet</th>\n",
       "      <th>romantic</th>\n",
       "      <th>famrel</th>\n",
       "      <th>freetime</th>\n",
       "      <th>goout</th>\n",
       "      <th>Dalc</th>\n",
       "      <th>Walc</th>\n",
       "      <th>health</th>\n",
       "      <th>absences</th>\n",
       "    </tr>\n",
       "  </thead>\n",
       "  <tbody>\n",
       "    <tr>\n",
       "      <th>0</th>\n",
       "      <td>GP</td>\n",
       "      <td>F</td>\n",
       "      <td>18</td>\n",
       "      <td>U</td>\n",
       "      <td>GT3</td>\n",
       "      <td>A</td>\n",
       "      <td>4</td>\n",
       "      <td>4</td>\n",
       "      <td>at_home</td>\n",
       "      <td>teacher</td>\n",
       "      <td>...</td>\n",
       "      <td>yes</td>\n",
       "      <td>no</td>\n",
       "      <td>no</td>\n",
       "      <td>4</td>\n",
       "      <td>3</td>\n",
       "      <td>4</td>\n",
       "      <td>1</td>\n",
       "      <td>1</td>\n",
       "      <td>3</td>\n",
       "      <td>6</td>\n",
       "    </tr>\n",
       "    <tr>\n",
       "      <th>1</th>\n",
       "      <td>GP</td>\n",
       "      <td>F</td>\n",
       "      <td>17</td>\n",
       "      <td>U</td>\n",
       "      <td>GT3</td>\n",
       "      <td>T</td>\n",
       "      <td>1</td>\n",
       "      <td>1</td>\n",
       "      <td>at_home</td>\n",
       "      <td>other</td>\n",
       "      <td>...</td>\n",
       "      <td>yes</td>\n",
       "      <td>yes</td>\n",
       "      <td>no</td>\n",
       "      <td>5</td>\n",
       "      <td>3</td>\n",
       "      <td>3</td>\n",
       "      <td>1</td>\n",
       "      <td>1</td>\n",
       "      <td>3</td>\n",
       "      <td>4</td>\n",
       "    </tr>\n",
       "    <tr>\n",
       "      <th>2</th>\n",
       "      <td>GP</td>\n",
       "      <td>F</td>\n",
       "      <td>15</td>\n",
       "      <td>U</td>\n",
       "      <td>LE3</td>\n",
       "      <td>T</td>\n",
       "      <td>1</td>\n",
       "      <td>1</td>\n",
       "      <td>at_home</td>\n",
       "      <td>other</td>\n",
       "      <td>...</td>\n",
       "      <td>yes</td>\n",
       "      <td>yes</td>\n",
       "      <td>no</td>\n",
       "      <td>4</td>\n",
       "      <td>3</td>\n",
       "      <td>2</td>\n",
       "      <td>2</td>\n",
       "      <td>3</td>\n",
       "      <td>3</td>\n",
       "      <td>10</td>\n",
       "    </tr>\n",
       "    <tr>\n",
       "      <th>3</th>\n",
       "      <td>GP</td>\n",
       "      <td>F</td>\n",
       "      <td>15</td>\n",
       "      <td>U</td>\n",
       "      <td>GT3</td>\n",
       "      <td>T</td>\n",
       "      <td>4</td>\n",
       "      <td>2</td>\n",
       "      <td>health</td>\n",
       "      <td>services</td>\n",
       "      <td>...</td>\n",
       "      <td>yes</td>\n",
       "      <td>yes</td>\n",
       "      <td>yes</td>\n",
       "      <td>3</td>\n",
       "      <td>2</td>\n",
       "      <td>2</td>\n",
       "      <td>1</td>\n",
       "      <td>1</td>\n",
       "      <td>5</td>\n",
       "      <td>2</td>\n",
       "    </tr>\n",
       "    <tr>\n",
       "      <th>4</th>\n",
       "      <td>GP</td>\n",
       "      <td>F</td>\n",
       "      <td>16</td>\n",
       "      <td>U</td>\n",
       "      <td>GT3</td>\n",
       "      <td>T</td>\n",
       "      <td>3</td>\n",
       "      <td>3</td>\n",
       "      <td>other</td>\n",
       "      <td>other</td>\n",
       "      <td>...</td>\n",
       "      <td>yes</td>\n",
       "      <td>no</td>\n",
       "      <td>no</td>\n",
       "      <td>4</td>\n",
       "      <td>3</td>\n",
       "      <td>2</td>\n",
       "      <td>1</td>\n",
       "      <td>2</td>\n",
       "      <td>5</td>\n",
       "      <td>4</td>\n",
       "    </tr>\n",
       "  </tbody>\n",
       "</table>\n",
       "<p>5 rows × 30 columns</p>\n",
       "</div>"
      ],
      "text/plain": [
       "  school sex  age address famsize Pstatus  Medu  Fedu     Mjob      Fjob  ...  \\\n",
       "0     GP   F   18       U     GT3       A     4     4  at_home   teacher  ...   \n",
       "1     GP   F   17       U     GT3       T     1     1  at_home     other  ...   \n",
       "2     GP   F   15       U     LE3       T     1     1  at_home     other  ...   \n",
       "3     GP   F   15       U     GT3       T     4     2   health  services  ...   \n",
       "4     GP   F   16       U     GT3       T     3     3    other     other  ...   \n",
       "\n",
       "  higher internet  romantic  famrel  freetime goout Dalc Walc health absences  \n",
       "0    yes       no        no       4         3     4    1    1      3        6  \n",
       "1    yes      yes        no       5         3     3    1    1      3        4  \n",
       "2    yes      yes        no       4         3     2    2    3      3       10  \n",
       "3    yes      yes       yes       3         2     2    1    1      5        2  \n",
       "4    yes       no        no       4         3     2    1    2      5        4  \n",
       "\n",
       "[5 rows x 30 columns]"
      ]
     },
     "execution_count": 3,
     "metadata": {},
     "output_type": "execute_result"
    }
   ],
   "source": [
    "X.head(5) "
   ]
  },
  {
   "cell_type": "code",
   "execution_count": 4,
   "id": "a5643ed7",
   "metadata": {},
   "outputs": [
    {
     "name": "stdout",
     "output_type": "stream",
     "text": [
      "\n",
      "Dimensões do Student Performance Dataset:\n",
      "X: (395, 30)\n",
      "y: (395, 3)\n"
     ]
    }
   ],
   "source": [
    "# Dimensões dos dados do Student Performance Dataset\n",
    "print(\"\\nDimensões do Student Performance Dataset:\")\n",
    "print(f\"X: {X.shape}\")\n",
    "print(f\"y: {y.shape}\")\n"
   ]
  },
  {
   "cell_type": "code",
   "execution_count": 5,
   "id": "28a7e860",
   "metadata": {},
   "outputs": [
    {
     "name": "stdout",
     "output_type": "stream",
     "text": [
      "\n",
      "Verificando valores ausentes:\n",
      "school        0\n",
      "sex           0\n",
      "age           0\n",
      "address       0\n",
      "famsize       0\n",
      "Pstatus       0\n",
      "Medu          0\n",
      "Fedu          0\n",
      "Mjob          0\n",
      "Fjob          0\n",
      "reason        0\n",
      "guardian      0\n",
      "traveltime    0\n",
      "studytime     0\n",
      "failures      0\n",
      "schoolsup     0\n",
      "famsup        0\n",
      "paid          0\n",
      "activities    0\n",
      "nursery       0\n",
      "higher        0\n",
      "internet      0\n",
      "romantic      0\n",
      "famrel        0\n",
      "freetime      0\n",
      "goout         0\n",
      "Dalc          0\n",
      "Walc          0\n",
      "health        0\n",
      "absences      0\n",
      "dtype: int64\n"
     ]
    }
   ],
   "source": [
    "# Data cleaning\n",
    "# check for missing values\n",
    "print(\"\\nVerificando valores ausentes:\")\n",
    "print(X.isnull().sum())"
   ]
  },
  {
   "cell_type": "markdown",
   "id": "4b7a1564",
   "metadata": {},
   "source": [
    "## Pré-processamento dataset Student Performance"
   ]
  },
  {
   "cell_type": "code",
   "execution_count": 6,
   "id": "16f3f4c1",
   "metadata": {},
   "outputs": [
    {
     "name": "stdout",
     "output_type": "stream",
     "text": [
      "--- Pré-processamento inicial concluído ---\n",
      "Formato das features (X_final): (395, 39)\n",
      "Distribuição das classes (Aprovado/Reprovado):\n",
      "1    265\n",
      "0    130\n",
      "Name: count, dtype: int64\n"
     ]
    }
   ],
   "source": [
    "# Criando o alvo de classificação binário\n",
    "y_final = np.where(y['G3'] >= 10, 1, 0)\n",
    "\n",
    "# Aplicando One-Hot Encoding\n",
    "X_final = pd.get_dummies(X, drop_first=True)\n",
    "\n",
    "print(\"--- Pré-processamento inicial concluído ---\")\n",
    "print(\"Formato das features (X_final):\", X_final.shape)\n",
    "print(\"Distribuição das classes (Aprovado/Reprovado):\")\n",
    "print(pd.Series(y_final).value_counts())"
   ]
  },
  {
   "cell_type": "markdown",
   "id": "658bd5ca",
   "metadata": {},
   "source": [
    "##  Divisão, Normalização e Análise do PCA"
   ]
  },
  {
   "cell_type": "code",
   "execution_count": 7,
   "id": "bfc65197",
   "metadata": {},
   "outputs": [
    {
     "name": "stdout",
     "output_type": "stream",
     "text": [
      "Dados originais divididos e normalizados.\n"
     ]
    },
    {
     "data": {
      "image/png": "[encoded data removed]",
      "text/plain": [
       "<Figure size 1000x600 with 1 Axes>"
      ]
     },
     "metadata": {},
     "output_type": "display_data"
    }
   ],
   "source": [
    "# Divisão e Normalização (usando o dataset completo)\n",
    "X_train_full, X_test_full, y_train, y_test = train_test_split(\n",
    "    X_final, y_final, test_size=0.25, random_state=42, stratify=y_final\n",
    ")\n",
    "\n",
    "scaler = StandardScaler()\n",
    "X_train_scaled = scaler.fit_transform(X_train_full)\n",
    "X_test_scaled = scaler.transform(X_test_full)\n",
    "print(\"Dados originais divididos e normalizados.\")\n",
    "\n",
    "# Análise de Variância do PCA \n",
    "pca_analise = PCA()\n",
    "pca_analise.fit(X_train_scaled)\n",
    "variancia_acumulada = np.cumsum(pca_analise.explained_variance_ratio_)\n",
    "\n",
    "plt.figure(figsize=(10, 6))\n",
    "plt.plot(range(1, len(variancia_acumulada) + 1), variancia_acumulada, marker='o', linestyle='--')\n",
    "plt.title('Análise de Variância Acumulada por Componentes do PCA (Student Performance)')\n",
    "plt.xlabel('Número de Componentes')\n",
    "plt.ylabel('Porcentagem de Variância Explicada')\n",
    "plt.grid(True)\n",
    "plt.axhline(y=0.95, color='r', linestyle='-')\n",
    "plt.text(0.5, 0.96, '95% de variância', color = 'red', fontsize=12)\n",
    "plt.show()"
   ]
  },
  {
   "cell_type": "code",
   "execution_count": 8,
   "id": "d769cbd3",
   "metadata": {},
   "outputs": [
    {
     "name": "stdout",
     "output_type": "stream",
     "text": [
      "PCA aplicado para reduzir para 5 componentes.\n",
      "SMOTE aplicado ao conjunto de treino reduzido com PCA.\n",
      "\n",
      "Modelo QSVM criado para 5 features. Iniciando treinamento...\n",
      "Modelo treinado em 347.44 segundos.\n",
      "\n",
      " Relatório de Classificação para o QSVM com PCA (Student Performance(port)) \n",
      "              precision    recall  f1-score   support\n",
      "\n",
      "   Reprovado       0.39      0.42      0.41        33\n",
      "    Aprovado       0.70      0.67      0.68        66\n",
      "\n",
      "    accuracy                           0.59        99\n",
      "   macro avg       0.54      0.55      0.54        99\n",
      "weighted avg       0.60      0.59      0.59        99\n",
      "\n"
     ]
    }
   ],
   "source": [
    "\n",
    "N_COMPONENTES = 5\n",
    "pca = PCA(n_components=N_COMPONENTES)\n",
    "\n",
    "print(f\"PCA aplicado para reduzir para {N_COMPONENTES} componentes.\")\n",
    "X_train_pca = pca.fit_transform(X_train_scaled)\n",
    "X_test_pca = pca.transform(X_test_scaled)\n",
    "\n",
    "# SMOTE (nos dados já reduzidos)\n",
    "smote = SMOTE(random_state=42)\n",
    "X_train_resampled_pca, y_train_resampled = smote.fit_resample(X_train_pca, y_train)\n",
    "print(\"SMOTE aplicado ao conjunto de treino reduzido com PCA.\")\n",
    "\n",
    "# training\n",
    "num_features_pca = X_train_resampled_pca.shape[1]\n",
    "feature_map_sp_pca = ZZFeatureMap(feature_dimension=num_features_pca, reps=1)\n",
    "fidelity_kernel_sp_pca = FidelityQuantumKernel(feature_map=feature_map_sp_pca)\n",
    "qsvc_sp_pca = QSVC(quantum_kernel=fidelity_kernel_sp_pca, random_state=42)\n",
    "\n",
    "print(f\"\\nModelo QSVM criado para {num_features_pca} features. Iniciando treinamento...\")\n",
    "\n",
    "start_time = time.time()\n",
    "qsvc_sp_pca.fit(X_train_resampled_pca, y_train_resampled)\n",
    "end_time = time.time()\n",
    "print(f\"Modelo treinado em {end_time - start_time:.2f} segundos.\")\n",
    "\n",
    "qsvc_predictions_pca = qsvc_sp_pca.predict(X_test_pca)\n",
    "\n",
    "print(\"\\n Relatório de Classificação para o QSVM com PCA (Student Performance(port)) \")\n",
    "print(classification_report(y_test, qsvc_predictions_pca, target_names=['Reprovado', 'Aprovado']))"
   ]
  }
 ],
 "metadata": {
  "kernelspec": {
   "display_name": "tcc_env",
   "language": "python",
   "name": "python3"
  },
  "language_info": {
   "codemirror_mode": {
    "name": "ipython",
    "version": 3
   },
   "file_extension": ".py",
   "mimetype": "text/x-python",
   "name": "python",
   "nbconvert_exporter": "python",
   "pygments_lexer": "ipython3",
   "version": "3.13.3"
  }
 },
 "nbformat": 4,
 "nbformat_minor": 5
}
