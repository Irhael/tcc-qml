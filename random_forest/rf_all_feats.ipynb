{
 "cells": [
  {
   "cell_type": "markdown",
   "id": "29af5c91",
   "metadata": {},
   "source": [
    "# Experimentos: Baseline com Random Forest\n",
    "\n",
    "Este notebook estabelece baselines de performance com um modelo de Random Forest clássico em datasets"
   ]
  },
  {
   "cell_type": "markdown",
   "id": "1e355ce5",
   "metadata": {},
   "source": [
    "# Dataset = Breast Cancer Wisconsin (Diagnostic)"
   ]
  },
  {
   "cell_type": "code",
   "execution_count": 9,
   "id": "29981d84",
   "metadata": {},
   "outputs": [],
   "source": [
    "from sklearn.datasets import load_breast_cancer \n",
    "from sklearn.model_selection import train_test_split\n",
    "from sklearn.preprocessing import StandardScaler\n",
    "from sklearn.ensemble import RandomForestClassifier  # Importando Random Forest\n",
    "from sklearn.metrics import classification_report\n",
    "import numpy as np\n",
    "import pandas as pd"
   ]
  },
  {
   "cell_type": "markdown",
   "id": "59141e2f",
   "metadata": {},
   "source": [
    "## Loading data and initial analysis"
   ]
  },
  {
   "cell_type": "code",
   "execution_count": 10,
   "id": "d80e48ec",
   "metadata": {},
   "outputs": [
    {
     "name": "stdout",
     "output_type": "stream",
     "text": [
      "Dimensões dos dados: (569, 30)\n",
      "\n",
      "Distribuição das classes:\n",
      "Classe 0: 212 ocorrências\n",
      "Classe 1: 357 ocorrências\n"
     ]
    }
   ],
   "source": [
    "X, y = load_breast_cancer(return_X_y=True)  # Carregando o dataset\n",
    "\n",
    "# Verificando as dimensões dos nossos dados\n",
    "print(f\"Dimensões dos dados: {X.shape}\")\n",
    "\n",
    "\n",
    "# Vendo a distribuição das classes (0 e 1)\n",
    "print(\"\\nDistribuição das classes:\")\n",
    "# Usando numpy para contar as ocorrências de cada classe\n",
    "unique, counts = np.unique(y, return_counts=True)\n",
    "for class_label, count in zip(unique, counts):\n",
    "    print(f\"Classe {class_label}: {count} ocorrências\")\n"
   ]
  },
  {
   "cell_type": "markdown",
   "id": "f993b135",
   "metadata": {},
   "source": [
    "## Split data into training and testing sets"
   ]
  },
  {
   "cell_type": "code",
   "execution_count": 11,
   "id": "5bbd3fba",
   "metadata": {},
   "outputs": [
    {
     "name": "stdout",
     "output_type": "stream",
     "text": [
      "Dimensões do conjunto de treino: (426, 30)\n",
      "Dimensões do conjunto de teste: (143, 30)\n"
     ]
    }
   ],
   "source": [
    "X_train, X_test, y_train, y_test = train_test_split(X, y, test_size=0.25, random_state=42, stratify=y) # Stratify -> mantém a proporção das classes no split\n",
    "\n",
    "print(f\"Dimensões do conjunto de treino: {X_train.shape}\")\n",
    "print(f\"Dimensões do conjunto de teste: {X_test.shape}\")\n"
   ]
  },
  {
   "cell_type": "markdown",
   "id": "a7d66f6e",
   "metadata": {},
   "source": [
    "## Normalize data"
   ]
  },
  {
   "cell_type": "code",
   "execution_count": 12,
   "id": "a4104d3a",
   "metadata": {},
   "outputs": [
    {
     "name": "stdout",
     "output_type": "stream",
     "text": [
      "\n",
      "Dados normalizados\n"
     ]
    }
   ],
   "source": [
    "# normalizing the data\n",
    "scaler = StandardScaler()\n",
    "X_train = scaler.fit_transform(X_train)  # Ajusta o scaler e transforma os dados de treino\n",
    "X_test = scaler.transform(X_test)  # Transforma os dados de teste com o mesmo scaler\n",
    "\n",
    "print(\"\\nDados normalizados\")\n",
    "\n",
    "\n",
    "\n"
   ]
  },
  {
   "cell_type": "markdown",
   "id": "331668d2",
   "metadata": {},
   "source": [
    "# Training Random Forest model"
   ]
  },
  {
   "cell_type": "code",
   "execution_count": 13,
   "id": "2cecff1d",
   "metadata": {},
   "outputs": [
    {
     "name": "stdout",
     "output_type": "stream",
     "text": [
      "\n",
      "Modelo treinado com Random Forest\n"
     ]
    }
   ],
   "source": [
    "# Treinando o modelo Random Forest\n",
    "rf_model_bc = RandomForestClassifier(n_estimators=100, random_state=42)\n",
    "rf_model_bc.fit(X_train, y_train)\n",
    "\n",
    "print(\"\\nModelo treinado com Random Forest\")"
   ]
  },
  {
   "cell_type": "markdown",
   "id": "138c4bc8",
   "metadata": {},
   "source": [
    "# Predictions"
   ]
  },
  {
   "cell_type": "code",
   "execution_count": 14,
   "id": "28634b7b",
   "metadata": {},
   "outputs": [
    {
     "name": "stdout",
     "output_type": "stream",
     "text": [
      "\n",
      "Relatório de Classificação:\n",
      "              precision    recall  f1-score   support\n",
      "\n",
      "           0       0.96      0.92      0.94        53\n",
      "           1       0.96      0.98      0.97        90\n",
      "\n",
      "    accuracy                           0.96       143\n",
      "   macro avg       0.96      0.95      0.95       143\n",
      "weighted avg       0.96      0.96      0.96       143\n",
      "\n"
     ]
    }
   ],
   "source": [
    "# predicting the test set com Random Forest\n",
    "rf_predictions_bc = rf_model_bc.predict(X_test)\n",
    "# Avaliando o modelo\n",
    "print(\"\\nRelatório de Classificação:\")\n",
    "print(classification_report(y_test, rf_predictions_bc))"
   ]
  },
  {
   "cell_type": "markdown",
   "id": "14d910f8",
   "metadata": {},
   "source": [
    "# Dataset = Student Performance"
   ]
  },
  {
   "cell_type": "code",
   "execution_count": 15,
   "id": "71fbd787",
   "metadata": {},
   "outputs": [],
   "source": [
    "from imblearn.over_sampling import SMOTE\n",
    "\n",
    "\n",
    "def run_rf_all_features(filepath, subject_name, separator=','):\n",
    "\n",
    "    print(f\"   Iniciando processamento para Random Forest no dataset de ({subject_name})    \")\n",
    "    \n",
    "    # Carregamento e Pré-processamento \n",
    "    df = pd.read_csv(filepath, sep=separator)\n",
    "    y_grades = df[['G1', 'G2', 'G3']]\n",
    "    X_features = df.drop(columns=['G1', 'G2', 'G3'])\n",
    "    y_final = np.where(y_grades['G3'] >= 10, 1, 0)\n",
    "    X_final = pd.get_dummies(X_features, drop_first=True)\n",
    "\n",
    "    # Divisão, Normalização e SMOTE\n",
    "    X_train, X_test, y_train, y_test = train_test_split(\n",
    "        X_final, y_final, test_size=0.25, random_state=42, stratify=y_final\n",
    "    )\n",
    "    scaler = StandardScaler()\n",
    "    X_train_scaled = scaler.fit_transform(X_train)\n",
    "    X_test_scaled = scaler.transform(X_test)\n",
    "    \n",
    "    smote = SMOTE(random_state=42)\n",
    "    X_train_resampled, y_train_resampled = smote.fit_resample(X_train_scaled, y_train)\n",
    "    \n",
    "    # Treinamento e Avaliação do Random Forest\n",
    "    rf_model = RandomForestClassifier(n_estimators=100, random_state=42)\n",
    "    rf_model.fit(X_train_resampled, y_train_resampled)\n",
    "    \n",
    "    predictions = rf_model.predict(X_test_scaled)\n",
    "    \n",
    "    print(f\"\\n   Relatório de Classificação    \")\n",
    "    print(classification_report(y_test, predictions, target_names=['Reprovado', 'Aprovado']))"
   ]
  },
  {
   "cell_type": "markdown",
   "id": "bd34e7f4",
   "metadata": {},
   "source": [
    "# Execution"
   ]
  },
  {
   "cell_type": "code",
   "execution_count": 16,
   "id": "c5b050fc",
   "metadata": {},
   "outputs": [
    {
     "name": "stdout",
     "output_type": "stream",
     "text": [
      "   Iniciando processamento para Random Forest no dataset de (Português)    \n",
      "\n",
      "   Relatório de Classificação    \n",
      "              precision    recall  f1-score   support\n",
      "\n",
      "   Reprovado       0.32      0.28      0.30        25\n",
      "    Aprovado       0.87      0.89      0.88       138\n",
      "\n",
      "    accuracy                           0.80       163\n",
      "   macro avg       0.60      0.59      0.59       163\n",
      "weighted avg       0.79      0.80      0.79       163\n",
      "\n",
      "\n",
      "==================================================\n",
      "\n",
      "   Iniciando processamento para Random Forest no dataset de (Math)    \n",
      "\n",
      "   Relatório de Classificação    \n",
      "              precision    recall  f1-score   support\n",
      "\n",
      "   Reprovado       0.52      0.33      0.41        33\n",
      "    Aprovado       0.72      0.85      0.78        66\n",
      "\n",
      "    accuracy                           0.68        99\n",
      "   macro avg       0.62      0.59      0.59        99\n",
      "weighted avg       0.65      0.68      0.65        99\n",
      "\n"
     ]
    }
   ],
   "source": [
    "\n",
    "path_portugues = '../data/student-por.csv'\n",
    "path_matematica = '../data/student-mat.csv'\n",
    "\n",
    "\n",
    "run_rf_all_features(filepath=path_portugues, subject_name=\"Português\", separator=\",\")\n",
    "\n",
    "print(\"\\n\" + \"=\"*50 + \"\\n\") \n",
    "\n",
    "\n",
    "run_rf_all_features(filepath=path_matematica, subject_name=\"Math\", separator=\";\")"
   ]
  }
 ],
 "metadata": {
  "kernelspec": {
   "display_name": "tcc_env",
   "language": "python",
   "name": "python3"
  },
  "language_info": {
   "codemirror_mode": {
    "name": "ipython",
    "version": 3
   },
   "file_extension": ".py",
   "mimetype": "text/x-python",
   "name": "python",
   "nbconvert_exporter": "python",
   "pygments_lexer": "ipython3",
   "version": "3.13.3"
  }
 },
 "nbformat": 4,
 "nbformat_minor": 5
}
