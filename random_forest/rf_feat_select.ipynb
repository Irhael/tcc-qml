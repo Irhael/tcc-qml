{
 "cells": [
  {
   "cell_type": "markdown",
   "id": "29af5c91",
   "metadata": {},
   "source": [
    "# Experimentos: Baseline com Random Forest\n",
    "\n",
    "Este notebook estabelece baselines de performance com um modelo de Random Forest com feature selection clássico em datasets"
   ]
  },
  {
   "cell_type": "markdown",
   "id": "1e355ce5",
   "metadata": {},
   "source": [
    "# Dataset = Breast Cancer Wisconsin (Diagnostic)"
   ]
  },
  {
   "cell_type": "code",
   "execution_count": 10,
   "id": "29981d84",
   "metadata": {},
   "outputs": [],
   "source": [
    "from sklearn.datasets import load_breast_cancer \n",
    "from sklearn.model_selection import train_test_split\n",
    "from sklearn.preprocessing import StandardScaler\n",
    "from sklearn.ensemble import RandomForestClassifier  # Importando Random Forest\n",
    "from sklearn.metrics import classification_report\n",
    "import numpy as np\n",
    "import pandas as pd"
   ]
  },
  {
   "cell_type": "markdown",
   "id": "59141e2f",
   "metadata": {},
   "source": [
    "## Loading data and initial analysis"
   ]
  },
  {
   "cell_type": "code",
   "execution_count": 11,
   "id": "d80e48ec",
   "metadata": {},
   "outputs": [
    {
     "name": "stdout",
     "output_type": "stream",
     "text": [
      "Dimensões dos dados: (569, 30)\n",
      "\n",
      "Distribuição das classes:\n",
      "Classe 0: 212 ocorrências\n",
      "Classe 1: 357 ocorrências\n"
     ]
    }
   ],
   "source": [
    "X, y = load_breast_cancer(return_X_y=True)  # Carregando o dataset\n",
    "\n",
    "# Verificando as dimensões dos nossos dados\n",
    "print(f\"Dimensões dos dados: {X.shape}\")\n",
    "\n",
    "\n",
    "# Vendo a distribuição das classes (0 e 1)\n",
    "print(\"\\nDistribuição das classes:\")\n",
    "# Usando numpy para contar as ocorrências de cada classe\n",
    "unique, counts = np.unique(y, return_counts=True)\n",
    "for class_label, count in zip(unique, counts):\n",
    "    print(f\"Classe {class_label}: {count} ocorrências\")\n"
   ]
  },
  {
   "cell_type": "markdown",
   "id": "f993b135",
   "metadata": {},
   "source": [
    "## Split data into training and testing sets"
   ]
  },
  {
   "cell_type": "code",
   "execution_count": 12,
   "id": "5bbd3fba",
   "metadata": {},
   "outputs": [
    {
     "name": "stdout",
     "output_type": "stream",
     "text": [
      "Dimensões do conjunto de treino: (426, 30)\n",
      "Dimensões do conjunto de teste: (143, 30)\n"
     ]
    }
   ],
   "source": [
    "X_train, X_test, y_train, y_test = train_test_split(X, y, test_size=0.25, random_state=42, stratify=y) # Stratify -> mantém a proporção das classes no split\n",
    "\n",
    "print(f\"Dimensões do conjunto de treino: {X_train.shape}\")\n",
    "print(f\"Dimensões do conjunto de teste: {X_test.shape}\")\n"
   ]
  },
  {
   "cell_type": "markdown",
   "id": "ef6510cf",
   "metadata": {},
   "source": [
    "## Applying feature selection by correlation (30 -> 5 features)"
   ]
  },
  {
   "cell_type": "code",
   "execution_count": 13,
   "id": "7b1cad2a",
   "metadata": {},
   "outputs": [
    {
     "name": "stdout",
     "output_type": "stream",
     "text": [
      "Seleção de Features Aplicada (Breast Cancer)\n",
      "Novo formato do X_train: (426, 5)\n"
     ]
    }
   ],
   "source": [
    "\n",
    "top_features_bc = ['worst concave points', 'mean concave points', 'worst perimeter', 'worst radius', 'mean perimeter']\n",
    "\n",
    "\n",
    "feature_names = load_breast_cancer().feature_names\n",
    "df_X_train = pd.DataFrame(X_train, columns=feature_names)\n",
    "df_X_test = pd.DataFrame(X_test, columns=feature_names)\n",
    "\n",
    "X_train_selected_bc = df_X_train[top_features_bc]\n",
    "X_test_selected_bc = df_X_test[top_features_bc]\n",
    "\n",
    "print(\"Seleção de Features Aplicada (Breast Cancer)\")\n",
    "print(\"Novo formato do X_train:\", X_train_selected_bc.shape)"
   ]
  },
  {
   "cell_type": "markdown",
   "id": "a7d66f6e",
   "metadata": {},
   "source": [
    "## Normalize data"
   ]
  },
  {
   "cell_type": "code",
   "execution_count": 14,
   "id": "a4104d3a",
   "metadata": {},
   "outputs": [
    {
     "name": "stdout",
     "output_type": "stream",
     "text": [
      "\n",
      "Dados normalizados\n"
     ]
    }
   ],
   "source": [
    "# normalizing the data\n",
    "scaler_bc = StandardScaler()\n",
    "X_train_scaled_bc = scaler_bc.fit_transform(X_train_selected_bc)\n",
    "X_test_scaled_bc = scaler_bc.transform(X_test_selected_bc)\n",
    "print(\"\\nDados normalizados\")\n",
    "\n",
    "\n",
    "\n"
   ]
  },
  {
   "cell_type": "markdown",
   "id": "331668d2",
   "metadata": {},
   "source": [
    "# Training Random Forest model"
   ]
  },
  {
   "cell_type": "code",
   "execution_count": 15,
   "id": "2cecff1d",
   "metadata": {},
   "outputs": [
    {
     "name": "stdout",
     "output_type": "stream",
     "text": [
      "\n",
      "Modelo treinado com Random Forest e feature selection\n"
     ]
    }
   ],
   "source": [
    "# Treinando o modelo Random Forest\n",
    "rf_model_bc = RandomForestClassifier(n_estimators=100, random_state=42)\n",
    "rf_model_bc.fit(X_train_scaled_bc, y_train)\n",
    "\n",
    "print(\"\\nModelo treinado com Random Forest e feature selection\")"
   ]
  },
  {
   "cell_type": "markdown",
   "id": "138c4bc8",
   "metadata": {},
   "source": [
    "# Predictions"
   ]
  },
  {
   "cell_type": "code",
   "execution_count": 16,
   "id": "28634b7b",
   "metadata": {},
   "outputs": [
    {
     "name": "stdout",
     "output_type": "stream",
     "text": [
      "\n",
      "Relatório de Classificação com 5 features(bc):\n",
      "              precision    recall  f1-score   support\n",
      "\n",
      "           0       0.94      0.91      0.92        53\n",
      "           1       0.95      0.97      0.96        90\n",
      "\n",
      "    accuracy                           0.94       143\n",
      "   macro avg       0.94      0.94      0.94       143\n",
      "weighted avg       0.94      0.94      0.94       143\n",
      "\n"
     ]
    }
   ],
   "source": [
    "# predicting the test set com Random Forest\n",
    "rf_predictions_bc = rf_model_bc.predict(X_test_scaled_bc)\n",
    "# Avaliando o modelo\n",
    "print(\"\\nRelatório de Classificação com 5 features(bc):\")\n",
    "print(classification_report(y_test, rf_predictions_bc))"
   ]
  },
  {
   "cell_type": "markdown",
   "id": "14d910f8",
   "metadata": {},
   "source": [
    "# Dataset = Student Performance"
   ]
  },
  {
   "cell_type": "code",
   "execution_count": 17,
   "id": "4d865a74",
   "metadata": {},
   "outputs": [],
   "source": [
    "from imblearn.over_sampling import SMOTE\n",
    "\n",
    "\n",
    "def run_rf_feature_selection(filepath, subject_name, n_features=5, separator=','):\n",
    "\n",
    "    print(f\"   Iniciando processamento para Random Forest com Feature Selection no dataset de ({subject_name})    \")\n",
    "    \n",
    "    # Carregamento e Pré-processamento\n",
    "    df = pd.read_csv(filepath, sep=separator)\n",
    "    y_grades = df[['G1', 'G2', 'G3']]\n",
    "    X_features = df.drop(columns=['G1', 'G2', 'G3'])\n",
    "    y_final = np.where(y_grades['G3'] >= 10, 1, 0)\n",
    "    X_final = pd.get_dummies(X_features, drop_first=True)\n",
    "\n",
    "    # Divisão dos dados PRIMEIRO\n",
    "    X_train_full, X_test_full, y_train, y_test = train_test_split(\n",
    "        X_final, y_final, test_size=0.25, random_state=42, stratify=y_final\n",
    "    )\n",
    "    \n",
    "    # Seleção de Features baseada APENAS no treino\n",
    "    train_df = X_train_full.copy()\n",
    "    train_df[\"aprovado\"] = y_train\n",
    "    correlation = train_df.corr(numeric_only=True)[\"aprovado\"].abs().sort_values(ascending=False)\n",
    "    top_features = correlation[1:n_features+1].index.tolist()\n",
    "    print(f\"Top {n_features} features selecionadas: {top_features}\")\n",
    "    \n",
    "    X_train_selected = X_train_full[top_features]\n",
    "    X_test_selected = X_test_full[top_features]\n",
    "\n",
    "    # Normalização e SMOTE (nos dados já selecionados)\n",
    "    scaler = StandardScaler()\n",
    "    X_train_scaled = scaler.fit_transform(X_train_selected)\n",
    "    X_test_scaled = scaler.transform(X_test_selected)\n",
    "    \n",
    "    smote = SMOTE(random_state=42)\n",
    "    X_train_resampled, y_train_resampled = smote.fit_resample(X_train_scaled, y_train)\n",
    "    \n",
    "    # Treinamento e Avaliação do Random Forest\n",
    "    rf_model = RandomForestClassifier(n_estimators=100, random_state=42)\n",
    "    rf_model.fit(X_train_resampled, y_train_resampled)\n",
    "    \n",
    "    predictions = rf_model.predict(X_test_scaled)\n",
    "    \n",
    "    print(f\"\\n Relatório de Classificação \")\n",
    "    print(classification_report(y_test, predictions, target_names=['Reprovado', 'Aprovado']))"
   ]
  },
  {
   "cell_type": "markdown",
   "id": "0c078177",
   "metadata": {},
   "source": [
    "# Execution"
   ]
  },
  {
   "cell_type": "code",
   "execution_count": 18,
   "id": "7913a22b",
   "metadata": {},
   "outputs": [
    {
     "name": "stdout",
     "output_type": "stream",
     "text": [
      "   Iniciando processamento para Random Forest com Feature Selection no dataset de (Português)    \n",
      "Top 5 features selecionadas: ['failures', 'higher_yes', 'school_MS', 'Medu', 'studytime']\n",
      "\n",
      " Relatório de Classificação \n",
      "              precision    recall  f1-score   support\n",
      "\n",
      "   Reprovado       0.33      0.40      0.36        25\n",
      "    Aprovado       0.89      0.86      0.87       138\n",
      "\n",
      "    accuracy                           0.79       163\n",
      "   macro avg       0.61      0.63      0.62       163\n",
      "weighted avg       0.80      0.79      0.79       163\n",
      "\n",
      "\n",
      "==================================================\n",
      "\n",
      "   Iniciando processamento para Random Forest com Feature Selection no dataset de (Math)    \n",
      "Top 5 features selecionadas: ['failures', 'higher_yes', 'goout', 'age', 'schoolsup_yes']\n",
      "\n",
      " Relatório de Classificação \n",
      "              precision    recall  f1-score   support\n",
      "\n",
      "   Reprovado       0.50      0.33      0.40        33\n",
      "    Aprovado       0.71      0.83      0.77        66\n",
      "\n",
      "    accuracy                           0.67        99\n",
      "   macro avg       0.61      0.58      0.58        99\n",
      "weighted avg       0.64      0.67      0.65        99\n",
      "\n"
     ]
    }
   ],
   "source": [
    "\n",
    "path_portugues = '../data/student-por.csv'\n",
    "path_matematica = '../data/student-mat.csv'\n",
    "\n",
    "\n",
    "run_rf_feature_selection(filepath=path_portugues, subject_name=\"Português\", separator=\",\")\n",
    "\n",
    "print(\"\\n\" + \"=\"*50 + \"\\n\") \n",
    "\n",
    "\n",
    "run_rf_feature_selection(filepath=path_matematica, subject_name=\"Math\", separator=\";\")"
   ]
  }
 ],
 "metadata": {
  "kernelspec": {
   "display_name": "tcc_env",
   "language": "python",
   "name": "python3"
  },
  "language_info": {
   "codemirror_mode": {
    "name": "ipython",
    "version": 3
   },
   "file_extension": ".py",
   "mimetype": "text/x-python",
   "name": "python",
   "nbconvert_exporter": "python",
   "pygments_lexer": "ipython3",
   "version": "3.13.3"
  }
 },
 "nbformat": 4,
 "nbformat_minor": 5
}
