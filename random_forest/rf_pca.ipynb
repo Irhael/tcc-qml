{
 "cells": [
  {
   "cell_type": "markdown",
   "id": "29af5c91",
   "metadata": {},
   "source": [
    "# Experimentos: Baseline com Random Forest\n",
    "\n",
    "Este notebook estabelece baselines de performance com um modelo de Random Forest clássico em datasets"
   ]
  },
  {
   "cell_type": "markdown",
   "id": "1e355ce5",
   "metadata": {},
   "source": [
    "# Dataset = Breast Cancer Wisconsin (Diagnostic)"
   ]
  },
  {
   "cell_type": "code",
   "execution_count": 1,
   "id": "29981d84",
   "metadata": {},
   "outputs": [],
   "source": [
    "from sklearn.datasets import load_breast_cancer \n",
    "from sklearn.model_selection import train_test_split\n",
    "from sklearn.preprocessing import StandardScaler\n",
    "from sklearn.ensemble import RandomForestClassifier  # Importando Random Forest\n",
    "from sklearn.metrics import classification_report\n",
    "import numpy as np\n",
    "import pandas as pd"
   ]
  },
  {
   "cell_type": "markdown",
   "id": "59141e2f",
   "metadata": {},
   "source": [
    "## Loading data and initial analysis"
   ]
  },
  {
   "cell_type": "code",
   "execution_count": 2,
   "id": "d80e48ec",
   "metadata": {},
   "outputs": [
    {
     "name": "stdout",
     "output_type": "stream",
     "text": [
      "Dimensões dos dados: (569, 30)\n",
      "\n",
      "Distribuição das classes:\n",
      "Classe 0: 212 ocorrências\n",
      "Classe 1: 357 ocorrências\n"
     ]
    }
   ],
   "source": [
    "X, y = load_breast_cancer(return_X_y=True)  # Carregando o dataset\n",
    "\n",
    "# Verificando as dimensões dos nossos dados\n",
    "print(f\"Dimensões dos dados: {X.shape}\")\n",
    "\n",
    "\n",
    "# Vendo a distribuição das classes (0 e 1)\n",
    "print(\"\\nDistribuição das classes:\")\n",
    "# Usando numpy para contar as ocorrências de cada classe\n",
    "unique, counts = np.unique(y, return_counts=True)\n",
    "for class_label, count in zip(unique, counts):\n",
    "    print(f\"Classe {class_label}: {count} ocorrências\")\n"
   ]
  },
  {
   "cell_type": "markdown",
   "id": "f993b135",
   "metadata": {},
   "source": [
    "## Split data into training and testing sets"
   ]
  },
  {
   "cell_type": "code",
   "execution_count": 3,
   "id": "5bbd3fba",
   "metadata": {},
   "outputs": [
    {
     "name": "stdout",
     "output_type": "stream",
     "text": [
      "Dimensões do conjunto de treino: (426, 30)\n",
      "Dimensões do conjunto de teste: (143, 30)\n"
     ]
    }
   ],
   "source": [
    "X_train, X_test, y_train, y_test = train_test_split(X, y, test_size=0.25, random_state=42, stratify=y) # Stratify -> mantém a proporção das classes no split\n",
    "\n",
    "print(f\"Dimensões do conjunto de treino: {X_train.shape}\")\n",
    "print(f\"Dimensões do conjunto de teste: {X_test.shape}\")\n"
   ]
  },
  {
   "cell_type": "markdown",
   "id": "a7d66f6e",
   "metadata": {},
   "source": [
    "## Normalize data"
   ]
  },
  {
   "cell_type": "code",
   "execution_count": 4,
   "id": "a4104d3a",
   "metadata": {},
   "outputs": [
    {
     "name": "stdout",
     "output_type": "stream",
     "text": [
      "\n",
      "Dados normalizados\n"
     ]
    }
   ],
   "source": [
    "# normalizing the data\n",
    "scaler = StandardScaler()\n",
    "X_train = scaler.fit_transform(X_train)  # Ajusta o scaler e transforma os dados de treino\n",
    "X_test = scaler.transform(X_test)  # Transforma os dados de teste com o mesmo scaler\n",
    "\n",
    "print(\"\\nDados normalizados\")\n",
    "\n",
    "\n",
    "\n"
   ]
  },
  {
   "cell_type": "markdown",
   "id": "2ff8f27b",
   "metadata": {},
   "source": [
    "## Applying PCA"
   ]
  },
  {
   "cell_type": "code",
   "execution_count": 5,
   "id": "e3346969",
   "metadata": {},
   "outputs": [
    {
     "name": "stdout",
     "output_type": "stream",
     "text": [
      "PCA aplicado. Dimensões reduzidas para 5 componentes.\n"
     ]
    }
   ],
   "source": [
    "from sklearn.decomposition import PCA\n",
    "\n",
    "N_COMPONENTES_BC = 5\n",
    "pca_bc = PCA(n_components=N_COMPONENTES_BC)\n",
    "\n",
    "\n",
    "X_train_pca = pca_bc.fit_transform(X_train)\n",
    "X_test_pca = pca_bc.transform(X_test)\n",
    "\n",
    "print(f\"PCA aplicado. Dimensões reduzidas para {N_COMPONENTES_BC} componentes.\")"
   ]
  },
  {
   "cell_type": "markdown",
   "id": "331668d2",
   "metadata": {},
   "source": [
    "# Training Random Forest model"
   ]
  },
  {
   "cell_type": "code",
   "execution_count": 6,
   "id": "2cecff1d",
   "metadata": {},
   "outputs": [
    {
     "name": "stdout",
     "output_type": "stream",
     "text": [
      "\n",
      "Modelo treinado com Random Forest\n"
     ]
    }
   ],
   "source": [
    "# Treinando o modelo Random Forest\n",
    "rf_model_bc = RandomForestClassifier(n_estimators=100, random_state=42)\n",
    "rf_model_bc.fit(X_train_pca, y_train)\n",
    "\n",
    "print(\"\\nModelo treinado com Random Forest\")"
   ]
  },
  {
   "cell_type": "markdown",
   "id": "138c4bc8",
   "metadata": {},
   "source": [
    "# Predictions"
   ]
  },
  {
   "cell_type": "code",
   "execution_count": 7,
   "id": "28634b7b",
   "metadata": {},
   "outputs": [
    {
     "name": "stdout",
     "output_type": "stream",
     "text": [
      "\n",
      "Relatório de Classificação com PCA(5 features):\n",
      "              precision    recall  f1-score   support\n",
      "\n",
      "           0       0.92      0.91      0.91        53\n",
      "           1       0.95      0.96      0.95        90\n",
      "\n",
      "    accuracy                           0.94       143\n",
      "   macro avg       0.93      0.93      0.93       143\n",
      "weighted avg       0.94      0.94      0.94       143\n",
      "\n"
     ]
    }
   ],
   "source": [
    "# predicting the test set com Random Forest\n",
    "rf_predictions_bc = rf_model_bc.predict(X_test_pca)\n",
    "# Avaliando o modelo\n",
    "print(\"\\nRelatório de Classificação com PCA(5 features):\")\n",
    "print(classification_report(y_test, rf_predictions_bc))"
   ]
  },
  {
   "cell_type": "markdown",
   "id": "14d910f8",
   "metadata": {},
   "source": [
    "# Dataset = Student Performance"
   ]
  },
  {
   "cell_type": "code",
   "execution_count": null,
   "id": "14192525",
   "metadata": {},
   "outputs": [],
   "source": [
    "from imblearn.over_sampling import SMOTE\n",
    "from sklearn.decomposition import PCA\n",
    "\n",
    "\n",
    "def run_rf_pca(filepath, subject_name, n_components=5, separator=','):\n",
    "\n",
    "    print(f\"   Iniciando processamento para Random Forest com PCA no dataset de ({subject_name})    \")\n",
    "    \n",
    "    # Carregamento e Pré-processamento\n",
    "    df = pd.read_csv(filepath, sep=separator)\n",
    "    y_grades = df[['G1', 'G2', 'G3']]\n",
    "    X_features = df.drop(columns=['G1', 'G2', 'G3'])\n",
    "    y_final = np.where(y_grades['G3'] >= 10, 1, 0)\n",
    "    X_final = pd.get_dummies(X_features, drop_first=True)\n",
    "\n",
    "    # Divisão e Normalização\n",
    "    X_train, X_test, y_train, y_test = train_test_split(\n",
    "        X_final, y_final, test_size=0.25, random_state=42, stratify=y_final\n",
    "    )\n",
    "    \n",
    "    scaler = StandardScaler()\n",
    "    X_train_scaled_full = scaler.fit_transform(X_train)\n",
    "    X_test_scaled_full = scaler.transform(X_test)\n",
    "    \n",
    "    # Aplicação do PCA\n",
    "    pca = PCA(n_components=n_components)\n",
    "    X_train_pca = pca.fit_transform(X_train_scaled_full)\n",
    "    X_test_pca = pca.transform(X_test_scaled_full)\n",
    "    \n",
    "    # SMOTE (nos dados já reduzidos com PCA)\n",
    "    smote = SMOTE(random_state=42)\n",
    "    X_train_resampled, y_train_resampled = smote.fit_resample(X_train_pca, y_train)\n",
    "    \n",
    "    # Treinamento e Avaliação do Random Forest\n",
    "    rf_model = RandomForestClassifier(n_estimators=100, random_state=42)\n",
    "    rf_model.fit(X_train_resampled, y_train_resampled)\n",
    "    \n",
    "    predictions = rf_model.predict(X_test_pca)\n",
    "    \n",
    "    print(f\"\\n  Relatório de Classificação   \")\n",
    "    print(classification_report(y_test, predictions, target_names=['Reprovado', 'Aprovado']))"
   ]
  },
  {
   "cell_type": "markdown",
   "id": "b5213d2d",
   "metadata": {},
   "source": [
    "# Execution"
   ]
  },
  {
   "cell_type": "code",
   "execution_count": 9,
   "id": "3fbb1bc2",
   "metadata": {},
   "outputs": [
    {
     "name": "stdout",
     "output_type": "stream",
     "text": [
      "   Iniciando processamento para Random Forest com PCA no dataset de (Português)    \n",
      "\n",
      "--- Relatório de Classificação ---\n",
      "              precision    recall  f1-score   support\n",
      "\n",
      "   Reprovado       0.21      0.28      0.24        25\n",
      "    Aprovado       0.86      0.80      0.83       138\n",
      "\n",
      "    accuracy                           0.72       163\n",
      "   macro avg       0.53      0.54      0.53       163\n",
      "weighted avg       0.76      0.72      0.74       163\n",
      "\n",
      "\n",
      "==================================================\n",
      "\n",
      "   Iniciando processamento para Random Forest com PCA no dataset de (Math)    \n",
      "\n",
      "--- Relatório de Classificação ---\n",
      "              precision    recall  f1-score   support\n",
      "\n",
      "   Reprovado       0.42      0.33      0.37        33\n",
      "    Aprovado       0.70      0.77      0.73        66\n",
      "\n",
      "    accuracy                           0.63        99\n",
      "   macro avg       0.56      0.55      0.55        99\n",
      "weighted avg       0.61      0.63      0.61        99\n",
      "\n"
     ]
    }
   ],
   "source": [
    "\n",
    "path_portugues = '../data/student-por.csv'\n",
    "path_matematica = '../data/student-mat.csv'\n",
    "\n",
    "\n",
    "run_rf_pca(filepath=path_portugues, subject_name=\"Português\", separator=\",\")\n",
    "\n",
    "print(\"\\n\" + \"=\"*50 + \"\\n\") \n",
    "\n",
    "\n",
    "run_rf_pca(filepath=path_matematica, subject_name=\"Math\", separator=\";\")"
   ]
  }
 ],
 "metadata": {
  "kernelspec": {
   "display_name": "tcc_env",
   "language": "python",
   "name": "python3"
  },
  "language_info": {
   "codemirror_mode": {
    "name": "ipython",
    "version": 3
   },
   "file_extension": ".py",
   "mimetype": "text/x-python",
   "name": "python",
   "nbconvert_exporter": "python",
   "pygments_lexer": "ipython3",
   "version": "3.13.3"
  }
 },
 "nbformat": 4,
 "nbformat_minor": 5
}
