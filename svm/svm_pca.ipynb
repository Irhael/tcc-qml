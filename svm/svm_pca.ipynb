{
 "cells": [
  {
   "cell_type": "markdown",
   "id": "29af5c91",
   "metadata": {},
   "source": [
    "# Experimentos: Baseline com SVM Clássico\n",
    "\n",
    "Este notebook estabelece baselines de performance com um modelo de Support Vector Machine (SVM) clássico com PCA em datasets"
   ]
  },
  {
   "cell_type": "markdown",
   "id": "1e355ce5",
   "metadata": {},
   "source": [
    "# Dataset = Breast Cancer Wisconsin (Diagnostic)"
   ]
  },
  {
   "cell_type": "code",
   "execution_count": 1,
   "id": "29981d84",
   "metadata": {},
   "outputs": [],
   "source": [
    "from sklearn.datasets import load_breast_cancer \n",
    "from sklearn.model_selection import train_test_split\n",
    "from sklearn.preprocessing import StandardScaler\n",
    "from sklearn.svm import SVC  # Importando o classificador SVM\n",
    "from sklearn.metrics import classification_report\n",
    "import numpy as np\n",
    "import pandas as pd"
   ]
  },
  {
   "cell_type": "markdown",
   "id": "59141e2f",
   "metadata": {},
   "source": [
    "## Loading data and initial analysis"
   ]
  },
  {
   "cell_type": "code",
   "execution_count": 2,
   "id": "d80e48ec",
   "metadata": {},
   "outputs": [
    {
     "name": "stdout",
     "output_type": "stream",
     "text": [
      "Dimensões dos dados: (569, 30)\n",
      "\n",
      "Distribuição das classes:\n",
      "Classe 0: 212 ocorrências\n",
      "Classe 1: 357 ocorrências\n"
     ]
    }
   ],
   "source": [
    "X, y = load_breast_cancer(return_X_y=True)  # Carregando o dataset\n",
    "\n",
    "# Verificando as dimensões dos nossos dados\n",
    "print(f\"Dimensões dos dados: {X.shape}\")\n",
    "\n",
    "\n",
    "# Vendo a distribuição das classes (0 e 1)\n",
    "print(\"\\nDistribuição das classes:\")\n",
    "# Usando numpy para contar as ocorrências de cada classe\n",
    "unique, counts = np.unique(y, return_counts=True)\n",
    "for class_label, count in zip(unique, counts):\n",
    "    print(f\"Classe {class_label}: {count} ocorrências\")\n"
   ]
  },
  {
   "cell_type": "markdown",
   "id": "f993b135",
   "metadata": {},
   "source": [
    "## Split data into training and testing sets"
   ]
  },
  {
   "cell_type": "code",
   "execution_count": 3,
   "id": "5bbd3fba",
   "metadata": {},
   "outputs": [
    {
     "name": "stdout",
     "output_type": "stream",
     "text": [
      "Dimensões do conjunto de treino: (426, 30)\n",
      "Dimensões do conjunto de teste: (143, 30)\n"
     ]
    }
   ],
   "source": [
    "X_train, X_test, y_train, y_test = train_test_split(X, y, test_size=0.25, random_state=42, stratify=y) # Stratify -> mantém a proporção das classes no split\n",
    "\n",
    "print(f\"Dimensões do conjunto de treino: {X_train.shape}\")\n",
    "print(f\"Dimensões do conjunto de teste: {X_test.shape}\")\n"
   ]
  },
  {
   "cell_type": "markdown",
   "id": "a7d66f6e",
   "metadata": {},
   "source": [
    "## Normalize data"
   ]
  },
  {
   "cell_type": "code",
   "execution_count": 4,
   "id": "a4104d3a",
   "metadata": {},
   "outputs": [
    {
     "name": "stdout",
     "output_type": "stream",
     "text": [
      "\n",
      "Dados normalizados\n"
     ]
    }
   ],
   "source": [
    "# normalizing the data\n",
    "scaler = StandardScaler()\n",
    "X_train = scaler.fit_transform(X_train)  # Ajusta o scaler e transforma os dados de treino\n",
    "X_test = scaler.transform(X_test)  # Transforma os dados de teste com o mesmo scaler\n",
    "\n",
    "print(\"\\nDados normalizados\")\n",
    "\n",
    "\n",
    "\n"
   ]
  },
  {
   "cell_type": "markdown",
   "id": "7ad40346",
   "metadata": {},
   "source": [
    "## Applying PCA"
   ]
  },
  {
   "cell_type": "code",
   "execution_count": 5,
   "id": "4cd09209",
   "metadata": {},
   "outputs": [
    {
     "name": "stdout",
     "output_type": "stream",
     "text": [
      "PCA aplicado. Dimensões reduzidas para 5 componentes.\n"
     ]
    }
   ],
   "source": [
    "from sklearn.decomposition import PCA\n",
    "\n",
    "N_COMPONENTES_BC = 5\n",
    "pca_bc = PCA(n_components=N_COMPONENTES_BC)\n",
    "\n",
    "\n",
    "X_train_pca = pca_bc.fit_transform(X_train)\n",
    "X_test_pca = pca_bc.transform(X_test)\n",
    "\n",
    "print(f\"PCA aplicado. Dimensões reduzidas para {N_COMPONENTES_BC} componentes.\")"
   ]
  },
  {
   "cell_type": "markdown",
   "id": "331668d2",
   "metadata": {},
   "source": [
    "# Training SVM model"
   ]
  },
  {
   "cell_type": "code",
   "execution_count": 6,
   "id": "2cecff1d",
   "metadata": {},
   "outputs": [
    {
     "name": "stdout",
     "output_type": "stream",
     "text": [
      "\n",
      "Modelo treinado com SVM (kernel linear) e pca\n"
     ]
    }
   ],
   "source": [
    "# Treinando o modelo SVM\n",
    "model = SVC(kernel=\"linear\", gamma=\"scale\", random_state=42)  # Usando o kernel RBF\n",
    "model.fit(X_train_pca, y_train)\n",
    "\n",
    "print(\"\\nModelo treinado com SVM (kernel linear) e pca\")"
   ]
  },
  {
   "cell_type": "markdown",
   "id": "138c4bc8",
   "metadata": {},
   "source": [
    "# Predictions"
   ]
  },
  {
   "cell_type": "code",
   "execution_count": 7,
   "id": "28634b7b",
   "metadata": {},
   "outputs": [
    {
     "name": "stdout",
     "output_type": "stream",
     "text": [
      "\n",
      "Previsões feitas no conjunto de teste\n",
      "\n",
      "Relatório de Classificação PCA 5 features:\n",
      "              precision    recall  f1-score   support\n",
      "\n",
      "           0       0.96      0.96      0.96        53\n",
      "           1       0.98      0.98      0.98        90\n",
      "\n",
      "    accuracy                           0.97       143\n",
      "   macro avg       0.97      0.97      0.97       143\n",
      "weighted avg       0.97      0.97      0.97       143\n",
      "\n"
     ]
    }
   ],
   "source": [
    "# predicting the test set\n",
    "predictions = model.predict(X_test_pca) # Prevendo os rótulos do conjunto de teste\n",
    "print(\"\\nPrevisões feitas no conjunto de teste\")\n",
    "# Avaliando o modelo\n",
    "print(\"\\nRelatório de Classificação PCA 5 features:\")\n",
    "print(classification_report(y_test, predictions))"
   ]
  },
  {
   "cell_type": "markdown",
   "id": "14d910f8",
   "metadata": {},
   "source": [
    "# Dataset = Student Performance"
   ]
  },
  {
   "cell_type": "code",
   "execution_count": 8,
   "id": "9cfa99f2",
   "metadata": {},
   "outputs": [],
   "source": [
    "from imblearn.over_sampling import SMOTE\n",
    "\n",
    "def run_svm_experiment(filepath, subject_name, separator=','):\n",
    "    \"\"\"\n",
    "    Carrega um dataset de performance de alunos, executa o pré-processamento\n",
    "    e treina um modelo SVM clássico com PCA, retornando o relatório de classificação.\n",
    "    \n",
    "    Args:\n",
    "        filepath (str): O caminho para o arquivo .csv.\n",
    "        subject_name (str): O nome da matéria para os printouts (ex: 'Math').\n",
    "    \"\"\"\n",
    "    \n",
    "    print(f\"Iniciando processamento para: {subject_name} \")\n",
    "    \n",
    "    # Carregamento e Pré-processamento \n",
    "    df = pd.read_csv(filepath, sep=separator)\n",
    "    print(f\"Formato: {df.shape}\")\n",
    "    y_grades = df[['G1', 'G2', 'G3']]\n",
    "    X_features = df.drop(columns=['G1', 'G2', 'G3'])\n",
    "\n",
    "    \n",
    "    y_final = np.where(y_grades['G3'] >= 10, 1, 0)\n",
    "    print(\"\\nDistribuição de classes (0=Reprovado, 1=Aprovado):\")\n",
    "    print(pd.Series(y_final).value_counts())\n",
    "\n",
    "    X_final = pd.get_dummies(X_features, drop_first=True)\n",
    "    print(f\"\\nFormato após one-hot encoding: {X_final.shape}\")\n",
    "\n",
    "    # Divisão, Normalização e SMOTE\n",
    "    X_train, X_test, y_train, y_test = train_test_split(\n",
    "        X_final, y_final, test_size=0.25, random_state=42, stratify=y_final\n",
    "    )\n",
    "    print(f\"\\nDados divididos: {X_train.shape[0]} para treino, {X_test.shape[0]} para teste.\\n\")\n",
    "\n",
    "    scaler = StandardScaler()\n",
    "    X_train_scaled = scaler.fit_transform(X_train)\n",
    "    X_test_scaled = scaler.transform(X_test)\n",
    "    \n",
    "    N_COMPONENTES_SP = 5\n",
    "    pca_sp = PCA(n_components=N_COMPONENTES_SP)\n",
    "\n",
    "    X_train_pca_sp = pca_sp.fit_transform(X_train_scaled)\n",
    "    X_test_pca_sp = pca_sp.transform(X_test_scaled)\n",
    "\n",
    "    print(f\"PCA aplicado. Dimensões reduzidas para {N_COMPONENTES_SP} componentes.\")\n",
    "\n",
    "    # applying smote on the pca-transformed data\n",
    "    smote_pca = SMOTE(random_state=42)\n",
    "    X_train_resampled_pca, y_train_resampled_pca = smote_pca.fit_resample(X_train_pca_sp, y_train)\n",
    "\n",
    "    # Verificando o balanceamento DEPOIS do SMOTE\n",
    "    print(\"\\nDistribuição de classes no treino DEPOIS do SMOTE:\")\n",
    "    print(pd.Series(y_train_resampled_pca).value_counts())\n",
    "\n",
    "\n",
    "    # Treinamento e Avaliação\n",
    "    svm_model = SVC(kernel='rbf', gamma='scale', random_state=42)\n",
    "    svm_model.fit(X_train_resampled_pca, y_train_resampled_pca)\n",
    "    \n",
    "    predictions = svm_model.predict(X_test_pca_sp)\n",
    "    \n",
    "    print(f\"\\n   Relatório de Classificação para SVM ({subject_name})    \\n\")\n",
    "    print(classification_report(y_test, predictions, target_names=['Reprovado', 'Aprovado']))"
   ]
  },
  {
   "cell_type": "markdown",
   "id": "09fec034",
   "metadata": {},
   "source": [
    "# Execution"
   ]
  },
  {
   "cell_type": "code",
   "execution_count": 9,
   "id": "c81267c4",
   "metadata": {},
   "outputs": [
    {
     "name": "stdout",
     "output_type": "stream",
     "text": [
      "Iniciando processamento para: Português \n",
      "Formato: (649, 33)\n",
      "\n",
      "Distribuição de classes (0=Reprovado, 1=Aprovado):\n",
      "1    549\n",
      "0    100\n",
      "Name: count, dtype: int64\n",
      "\n",
      "Formato após one-hot encoding: (649, 39)\n",
      "\n",
      "Dados divididos: 486 para treino, 163 para teste.\n",
      "\n",
      "PCA aplicado. Dimensões reduzidas para 5 componentes.\n",
      "\n",
      "Distribuição de classes no treino DEPOIS do SMOTE:\n",
      "1    411\n",
      "0    411\n",
      "Name: count, dtype: int64\n",
      "\n",
      "   Relatório de Classificação para SVM (Português)    \n",
      "\n",
      "              precision    recall  f1-score   support\n",
      "\n",
      "   Reprovado       0.22      0.52      0.31        25\n",
      "    Aprovado       0.89      0.67      0.77       138\n",
      "\n",
      "    accuracy                           0.65       163\n",
      "   macro avg       0.55      0.60      0.54       163\n",
      "weighted avg       0.78      0.65      0.70       163\n",
      "\n",
      "\n",
      "==================================================\n",
      "\n",
      "Iniciando processamento para: Math \n",
      "Formato: (395, 33)\n",
      "\n",
      "Distribuição de classes (0=Reprovado, 1=Aprovado):\n",
      "1    265\n",
      "0    130\n",
      "Name: count, dtype: int64\n",
      "\n",
      "Formato após one-hot encoding: (395, 39)\n",
      "\n",
      "Dados divididos: 296 para treino, 99 para teste.\n",
      "\n",
      "PCA aplicado. Dimensões reduzidas para 5 componentes.\n",
      "\n",
      "Distribuição de classes no treino DEPOIS do SMOTE:\n",
      "0    199\n",
      "1    199\n",
      "Name: count, dtype: int64\n",
      "\n",
      "   Relatório de Classificação para SVM (Math)    \n",
      "\n",
      "              precision    recall  f1-score   support\n",
      "\n",
      "   Reprovado       0.38      0.36      0.37        33\n",
      "    Aprovado       0.69      0.70      0.69        66\n",
      "\n",
      "    accuracy                           0.59        99\n",
      "   macro avg       0.53      0.53      0.53        99\n",
      "weighted avg       0.58      0.59      0.58        99\n",
      "\n"
     ]
    }
   ],
   "source": [
    "\n",
    "path_portugues = '../data/student-por.csv'\n",
    "path_matematica = '../data/student-mat.csv'\n",
    "\n",
    "\n",
    "run_svm_experiment(filepath=path_portugues, subject_name=\"Português\", separator=\",\")\n",
    "\n",
    "print(\"\\n\" + \"=\"*50 + \"\\n\") \n",
    "\n",
    "\n",
    "run_svm_experiment(filepath=path_matematica, subject_name=\"Math\", separator=\";\")"
   ]
  }
 ],
 "metadata": {
  "kernelspec": {
   "display_name": "tcc_env",
   "language": "python",
   "name": "python3"
  },
  "language_info": {
   "codemirror_mode": {
    "name": "ipython",
    "version": 3
   },
   "file_extension": ".py",
   "mimetype": "text/x-python",
   "name": "python",
   "nbconvert_exporter": "python",
   "pygments_lexer": "ipython3",
   "version": "3.13.3"
  }
 },
 "nbformat": 4,
 "nbformat_minor": 5
}
